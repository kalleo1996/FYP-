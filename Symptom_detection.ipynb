{
  "nbformat": 4,
  "nbformat_minor": 0,
  "metadata": {
    "colab": {
      "name": "Symptom detection.ipynb",
      "provenance": [],
      "toc_visible": true,
      "authorship_tag": "ABX9TyMs3B4Mt/+lPcAuC4Ecxfkw",
      "include_colab_link": true
    },
    "kernelspec": {
      "name": "python3",
      "display_name": "Python 3"
    },
    "language_info": {
      "name": "python"
    }
  },
  "cells": [
    {
      "cell_type": "markdown",
      "metadata": {
        "id": "view-in-github",
        "colab_type": "text"
      },
      "source": [
        "<a href=\"https://colab.research.google.com/github/kalleo1996/FYP-/blob/main/Symptom_detection.ipynb\" target=\"_parent\"><img src=\"https://colab.research.google.com/assets/colab-badge.svg\" alt=\"Open In Colab\"/></a>"
      ]
    },
    {
      "cell_type": "code",
      "metadata": {
        "colab": {
          "base_uri": "https://localhost:8080/"
        },
        "id": "F9iiAs4qlKw9",
        "outputId": "f1c5209c-9390-45b7-ca31-f5845f11d8a9"
      },
      "source": [
        "!pip install -U spacy\n",
        "\n",
        "!python -m spacy download en_core_web_lg\n",
        "\n",
        "!pip install langdetect\n",
        "\n",
        "!pip install contractions"
      ],
      "execution_count": null,
      "outputs": [
        {
          "output_type": "stream",
          "name": "stdout",
          "text": [
            "Requirement already satisfied: spacy in /usr/local/lib/python3.7/dist-packages (3.2.0)\n",
            "Requirement already satisfied: pydantic!=1.8,!=1.8.1,<1.9.0,>=1.7.4 in /usr/local/lib/python3.7/dist-packages (from spacy) (1.8.2)\n",
            "Requirement already satisfied: cymem<2.1.0,>=2.0.2 in /usr/local/lib/python3.7/dist-packages (from spacy) (2.0.6)\n",
            "Requirement already satisfied: spacy-loggers<2.0.0,>=1.0.0 in /usr/local/lib/python3.7/dist-packages (from spacy) (1.0.1)\n",
            "Requirement already satisfied: wasabi<1.1.0,>=0.8.1 in /usr/local/lib/python3.7/dist-packages (from spacy) (0.8.2)\n",
            "Requirement already satisfied: requests<3.0.0,>=2.13.0 in /usr/local/lib/python3.7/dist-packages (from spacy) (2.23.0)\n",
            "Requirement already satisfied: typer<0.5.0,>=0.3.0 in /usr/local/lib/python3.7/dist-packages (from spacy) (0.4.0)\n",
            "Requirement already satisfied: murmurhash<1.1.0,>=0.28.0 in /usr/local/lib/python3.7/dist-packages (from spacy) (1.0.6)\n",
            "Requirement already satisfied: typing-extensions<4.0.0.0,>=3.7.4 in /usr/local/lib/python3.7/dist-packages (from spacy) (3.10.0.2)\n",
            "Requirement already satisfied: jinja2 in /usr/local/lib/python3.7/dist-packages (from spacy) (2.11.3)\n",
            "Requirement already satisfied: catalogue<2.1.0,>=2.0.6 in /usr/local/lib/python3.7/dist-packages (from spacy) (2.0.6)\n",
            "Requirement already satisfied: blis<0.8.0,>=0.4.0 in /usr/local/lib/python3.7/dist-packages (from spacy) (0.4.1)\n",
            "Requirement already satisfied: srsly<3.0.0,>=2.4.1 in /usr/local/lib/python3.7/dist-packages (from spacy) (2.4.2)\n",
            "Requirement already satisfied: pathy>=0.3.5 in /usr/local/lib/python3.7/dist-packages (from spacy) (0.6.1)\n",
            "Requirement already satisfied: setuptools in /usr/local/lib/python3.7/dist-packages (from spacy) (57.4.0)\n",
            "Requirement already satisfied: tqdm<5.0.0,>=4.38.0 in /usr/local/lib/python3.7/dist-packages (from spacy) (4.62.3)\n",
            "Requirement already satisfied: numpy>=1.15.0 in /usr/local/lib/python3.7/dist-packages (from spacy) (1.19.5)\n",
            "Requirement already satisfied: preshed<3.1.0,>=3.0.2 in /usr/local/lib/python3.7/dist-packages (from spacy) (3.0.6)\n",
            "Requirement already satisfied: spacy-legacy<3.1.0,>=3.0.8 in /usr/local/lib/python3.7/dist-packages (from spacy) (3.0.8)\n",
            "Requirement already satisfied: langcodes<4.0.0,>=3.2.0 in /usr/local/lib/python3.7/dist-packages (from spacy) (3.3.0)\n",
            "Requirement already satisfied: packaging>=20.0 in /usr/local/lib/python3.7/dist-packages (from spacy) (21.3)\n",
            "Requirement already satisfied: thinc<8.1.0,>=8.0.12 in /usr/local/lib/python3.7/dist-packages (from spacy) (8.0.13)\n",
            "Requirement already satisfied: zipp>=0.5 in /usr/local/lib/python3.7/dist-packages (from catalogue<2.1.0,>=2.0.6->spacy) (3.6.0)\n",
            "Requirement already satisfied: pyparsing!=3.0.5,>=2.0.2 in /usr/local/lib/python3.7/dist-packages (from packaging>=20.0->spacy) (3.0.6)\n",
            "Requirement already satisfied: smart-open<6.0.0,>=5.0.0 in /usr/local/lib/python3.7/dist-packages (from pathy>=0.3.5->spacy) (5.2.1)\n",
            "Requirement already satisfied: chardet<4,>=3.0.2 in /usr/local/lib/python3.7/dist-packages (from requests<3.0.0,>=2.13.0->spacy) (3.0.4)\n",
            "Requirement already satisfied: urllib3!=1.25.0,!=1.25.1,<1.26,>=1.21.1 in /usr/local/lib/python3.7/dist-packages (from requests<3.0.0,>=2.13.0->spacy) (1.24.3)\n",
            "Requirement already satisfied: certifi>=2017.4.17 in /usr/local/lib/python3.7/dist-packages (from requests<3.0.0,>=2.13.0->spacy) (2021.10.8)\n",
            "Requirement already satisfied: idna<3,>=2.5 in /usr/local/lib/python3.7/dist-packages (from requests<3.0.0,>=2.13.0->spacy) (2.10)\n",
            "Requirement already satisfied: click<9.0.0,>=7.1.1 in /usr/local/lib/python3.7/dist-packages (from typer<0.5.0,>=0.3.0->spacy) (7.1.2)\n",
            "Requirement already satisfied: MarkupSafe>=0.23 in /usr/local/lib/python3.7/dist-packages (from jinja2->spacy) (2.0.1)\n",
            "Collecting en-core-web-lg==3.2.0\n",
            "  Downloading https://github.com/explosion/spacy-models/releases/download/en_core_web_lg-3.2.0/en_core_web_lg-3.2.0-py3-none-any.whl (777.4 MB)\n",
            "\u001b[K     |████████████████████████████████| 777.4 MB 5.4 kB/s \n",
            "\u001b[?25hRequirement already satisfied: spacy<3.3.0,>=3.2.0 in /usr/local/lib/python3.7/dist-packages (from en-core-web-lg==3.2.0) (3.2.0)\n",
            "Requirement already satisfied: catalogue<2.1.0,>=2.0.6 in /usr/local/lib/python3.7/dist-packages (from spacy<3.3.0,>=3.2.0->en-core-web-lg==3.2.0) (2.0.6)\n",
            "Requirement already satisfied: langcodes<4.0.0,>=3.2.0 in /usr/local/lib/python3.7/dist-packages (from spacy<3.3.0,>=3.2.0->en-core-web-lg==3.2.0) (3.3.0)\n",
            "Requirement already satisfied: tqdm<5.0.0,>=4.38.0 in /usr/local/lib/python3.7/dist-packages (from spacy<3.3.0,>=3.2.0->en-core-web-lg==3.2.0) (4.62.3)\n",
            "Requirement already satisfied: spacy-loggers<2.0.0,>=1.0.0 in /usr/local/lib/python3.7/dist-packages (from spacy<3.3.0,>=3.2.0->en-core-web-lg==3.2.0) (1.0.1)\n",
            "Requirement already satisfied: numpy>=1.15.0 in /usr/local/lib/python3.7/dist-packages (from spacy<3.3.0,>=3.2.0->en-core-web-lg==3.2.0) (1.19.5)\n",
            "Requirement already satisfied: setuptools in /usr/local/lib/python3.7/dist-packages (from spacy<3.3.0,>=3.2.0->en-core-web-lg==3.2.0) (57.4.0)\n",
            "Requirement already satisfied: thinc<8.1.0,>=8.0.12 in /usr/local/lib/python3.7/dist-packages (from spacy<3.3.0,>=3.2.0->en-core-web-lg==3.2.0) (8.0.13)\n",
            "Requirement already satisfied: cymem<2.1.0,>=2.0.2 in /usr/local/lib/python3.7/dist-packages (from spacy<3.3.0,>=3.2.0->en-core-web-lg==3.2.0) (2.0.6)\n",
            "Requirement already satisfied: typing-extensions<4.0.0.0,>=3.7.4 in /usr/local/lib/python3.7/dist-packages (from spacy<3.3.0,>=3.2.0->en-core-web-lg==3.2.0) (3.10.0.2)\n",
            "Requirement already satisfied: pathy>=0.3.5 in /usr/local/lib/python3.7/dist-packages (from spacy<3.3.0,>=3.2.0->en-core-web-lg==3.2.0) (0.6.1)\n",
            "Requirement already satisfied: pydantic!=1.8,!=1.8.1,<1.9.0,>=1.7.4 in /usr/local/lib/python3.7/dist-packages (from spacy<3.3.0,>=3.2.0->en-core-web-lg==3.2.0) (1.8.2)\n",
            "Requirement already satisfied: jinja2 in /usr/local/lib/python3.7/dist-packages (from spacy<3.3.0,>=3.2.0->en-core-web-lg==3.2.0) (2.11.3)\n",
            "Requirement already satisfied: packaging>=20.0 in /usr/local/lib/python3.7/dist-packages (from spacy<3.3.0,>=3.2.0->en-core-web-lg==3.2.0) (21.3)\n",
            "Requirement already satisfied: blis<0.8.0,>=0.4.0 in /usr/local/lib/python3.7/dist-packages (from spacy<3.3.0,>=3.2.0->en-core-web-lg==3.2.0) (0.4.1)\n",
            "Requirement already satisfied: murmurhash<1.1.0,>=0.28.0 in /usr/local/lib/python3.7/dist-packages (from spacy<3.3.0,>=3.2.0->en-core-web-lg==3.2.0) (1.0.6)\n",
            "Requirement already satisfied: srsly<3.0.0,>=2.4.1 in /usr/local/lib/python3.7/dist-packages (from spacy<3.3.0,>=3.2.0->en-core-web-lg==3.2.0) (2.4.2)\n",
            "Requirement already satisfied: spacy-legacy<3.1.0,>=3.0.8 in /usr/local/lib/python3.7/dist-packages (from spacy<3.3.0,>=3.2.0->en-core-web-lg==3.2.0) (3.0.8)\n",
            "Requirement already satisfied: wasabi<1.1.0,>=0.8.1 in /usr/local/lib/python3.7/dist-packages (from spacy<3.3.0,>=3.2.0->en-core-web-lg==3.2.0) (0.8.2)\n",
            "Requirement already satisfied: preshed<3.1.0,>=3.0.2 in /usr/local/lib/python3.7/dist-packages (from spacy<3.3.0,>=3.2.0->en-core-web-lg==3.2.0) (3.0.6)\n",
            "Requirement already satisfied: requests<3.0.0,>=2.13.0 in /usr/local/lib/python3.7/dist-packages (from spacy<3.3.0,>=3.2.0->en-core-web-lg==3.2.0) (2.23.0)\n",
            "Requirement already satisfied: typer<0.5.0,>=0.3.0 in /usr/local/lib/python3.7/dist-packages (from spacy<3.3.0,>=3.2.0->en-core-web-lg==3.2.0) (0.4.0)\n",
            "Requirement already satisfied: zipp>=0.5 in /usr/local/lib/python3.7/dist-packages (from catalogue<2.1.0,>=2.0.6->spacy<3.3.0,>=3.2.0->en-core-web-lg==3.2.0) (3.6.0)\n",
            "Requirement already satisfied: pyparsing!=3.0.5,>=2.0.2 in /usr/local/lib/python3.7/dist-packages (from packaging>=20.0->spacy<3.3.0,>=3.2.0->en-core-web-lg==3.2.0) (3.0.6)\n",
            "Requirement already satisfied: smart-open<6.0.0,>=5.0.0 in /usr/local/lib/python3.7/dist-packages (from pathy>=0.3.5->spacy<3.3.0,>=3.2.0->en-core-web-lg==3.2.0) (5.2.1)\n",
            "Requirement already satisfied: certifi>=2017.4.17 in /usr/local/lib/python3.7/dist-packages (from requests<3.0.0,>=2.13.0->spacy<3.3.0,>=3.2.0->en-core-web-lg==3.2.0) (2021.10.8)\n",
            "Requirement already satisfied: chardet<4,>=3.0.2 in /usr/local/lib/python3.7/dist-packages (from requests<3.0.0,>=2.13.0->spacy<3.3.0,>=3.2.0->en-core-web-lg==3.2.0) (3.0.4)\n",
            "Requirement already satisfied: urllib3!=1.25.0,!=1.25.1,<1.26,>=1.21.1 in /usr/local/lib/python3.7/dist-packages (from requests<3.0.0,>=2.13.0->spacy<3.3.0,>=3.2.0->en-core-web-lg==3.2.0) (1.24.3)\n",
            "Requirement already satisfied: idna<3,>=2.5 in /usr/local/lib/python3.7/dist-packages (from requests<3.0.0,>=2.13.0->spacy<3.3.0,>=3.2.0->en-core-web-lg==3.2.0) (2.10)\n",
            "Requirement already satisfied: click<9.0.0,>=7.1.1 in /usr/local/lib/python3.7/dist-packages (from typer<0.5.0,>=0.3.0->spacy<3.3.0,>=3.2.0->en-core-web-lg==3.2.0) (7.1.2)\n",
            "Requirement already satisfied: MarkupSafe>=0.23 in /usr/local/lib/python3.7/dist-packages (from jinja2->spacy<3.3.0,>=3.2.0->en-core-web-lg==3.2.0) (2.0.1)\n",
            "\u001b[38;5;2m✔ Download and installation successful\u001b[0m\n",
            "You can now load the package via spacy.load('en_core_web_lg')\n",
            "Requirement already satisfied: langdetect in /usr/local/lib/python3.7/dist-packages (1.0.9)\n",
            "Requirement already satisfied: six in /usr/local/lib/python3.7/dist-packages (from langdetect) (1.15.0)\n",
            "Requirement already satisfied: contractions in /usr/local/lib/python3.7/dist-packages (0.0.58)\n",
            "Requirement already satisfied: textsearch>=0.0.21 in /usr/local/lib/python3.7/dist-packages (from contractions) (0.0.21)\n",
            "Requirement already satisfied: anyascii in /usr/local/lib/python3.7/dist-packages (from textsearch>=0.0.21->contractions) (0.3.0)\n",
            "Requirement already satisfied: pyahocorasick in /usr/local/lib/python3.7/dist-packages (from textsearch>=0.0.21->contractions) (1.4.2)\n"
          ]
        }
      ]
    },
    {
      "cell_type": "code",
      "metadata": {
        "colab": {
          "base_uri": "https://localhost:8080/"
        },
        "id": "VqzO59t__qDj",
        "outputId": "4fbfc450-2cb8-4a5f-b1c9-75d963d1a219"
      },
      "source": [
        "!pip install scikit-multilearn"
      ],
      "execution_count": null,
      "outputs": [
        {
          "output_type": "stream",
          "name": "stdout",
          "text": [
            "Requirement already satisfied: scikit-multilearn in /usr/local/lib/python3.7/dist-packages (0.2.0)\n"
          ]
        }
      ]
    },
    {
      "cell_type": "code",
      "metadata": {
        "colab": {
          "base_uri": "https://localhost:8080/"
        },
        "id": "JW8t8EUvmmm_",
        "outputId": "33facf9b-55ad-45c2-c97d-34cd86397d83"
      },
      "source": [
        "from google.colab import drive\n",
        "drive.mount(\"/content/gdrive\")"
      ],
      "execution_count": null,
      "outputs": [
        {
          "output_type": "stream",
          "name": "stdout",
          "text": [
            "Drive already mounted at /content/gdrive; to attempt to forcibly remount, call drive.mount(\"/content/gdrive\", force_remount=True).\n"
          ]
        }
      ]
    },
    {
      "cell_type": "code",
      "metadata": {
        "id": "iAP43hnkmnbh"
      },
      "source": [
        "#importing libraries and packages\n",
        "import pandas as pd\n",
        "import numpy as np\n",
        "import seaborn as sns\n",
        "import matplotlib.pyplot as plt\n",
        "import scipy.stats as stats\n",
        "import warnings\n",
        "from sklearn.preprocessing import LabelEncoder\n",
        "from sklearn.preprocessing import FunctionTransformer\n",
        "from sklearn.preprocessing import StandardScaler\n",
        "from imblearn.over_sampling import SMOTE\n",
        "from sklearn.model_selection import train_test_split\n",
        "from sklearn.decomposition import PCA\n",
        "from sklearn import svm\n",
        "from sklearn.metrics import classification_report\n",
        "from sklearn.metrics import precision_score\n",
        "from sklearn.metrics import recall_score\n",
        "from sklearn.metrics import f1_score\n"
      ],
      "execution_count": null,
      "outputs": []
    },
    {
      "cell_type": "code",
      "metadata": {
        "colab": {
          "base_uri": "https://localhost:8080/",
          "height": 363
        },
        "id": "7155swNFmsCq",
        "outputId": "5fc2aa08-ec88-4de2-8c2b-ce15da65d130"
      },
      "source": [
        "df = pd.read_csv('/content/gdrive/My Drive/Colab Notebooks/data/anxiety-first250.csv',sep = ';')\n",
        "df.head(10)"
      ],
      "execution_count": null,
      "outputs": [
        {
          "output_type": "execute_result",
          "data": {
            "text/html": [
              "<div>\n",
              "<style scoped>\n",
              "    .dataframe tbody tr th:only-of-type {\n",
              "        vertical-align: middle;\n",
              "    }\n",
              "\n",
              "    .dataframe tbody tr th {\n",
              "        vertical-align: top;\n",
              "    }\n",
              "\n",
              "    .dataframe thead th {\n",
              "        text-align: right;\n",
              "    }\n",
              "</style>\n",
              "<table border=\"1\" class=\"dataframe\">\n",
              "  <thead>\n",
              "    <tr style=\"text-align: right;\">\n",
              "      <th></th>\n",
              "      <th>Title</th>\n",
              "      <th>Comment</th>\n",
              "      <th>code</th>\n",
              "      <th>symptom</th>\n",
              "      <th>illness</th>\n",
              "    </tr>\n",
              "  </thead>\n",
              "  <tbody>\n",
              "    <tr>\n",
              "      <th>0</th>\n",
              "      <td>What have other people's experiences been wrt ...</td>\n",
              "      <td>Quick question. For people who have been on an...</td>\n",
              "      <td>58</td>\n",
              "      <td>anxiety(42),a complaint of blushing, hand trem...</td>\n",
              "      <td>Anxiety</td>\n",
              "    </tr>\n",
              "    <tr>\n",
              "      <th>1</th>\n",
              "      <td>Anxious when there's nothing to worry about; p...</td>\n",
              "      <td>This problem happens randomly and sometimes wh...</td>\n",
              "      <td>16</td>\n",
              "      <td>being incomprehensible (16)</td>\n",
              "      <td>Anxiety</td>\n",
              "    </tr>\n",
              "    <tr>\n",
              "      <th>2</th>\n",
              "      <td>I am fighting against anything and everything ...</td>\n",
              "      <td>I am fighting against my own head\\n\\nI am figh...</td>\n",
              "      <td>29,32,34,57</td>\n",
              "      <td>delusions(29),depressed mood(32),increased fat...</td>\n",
              "      <td>Anxiety</td>\n",
              "    </tr>\n",
              "    <tr>\n",
              "      <th>3</th>\n",
              "      <td>DAE have overwhelming mood swings?</td>\n",
              "      <td>Allow me to elaborate: You're sitting at your ...</td>\n",
              "      <td>54</td>\n",
              "      <td>Panic attack(54)</td>\n",
              "      <td>Anxiety</td>\n",
              "    </tr>\n",
              "    <tr>\n",
              "      <th>4</th>\n",
              "      <td>Am I just being paranoid?</td>\n",
              "      <td>I constantly worry and over think about many s...</td>\n",
              "      <td>39</td>\n",
              "      <td>delusions(39)</td>\n",
              "      <td>Anxiety</td>\n",
              "    </tr>\n",
              "    <tr>\n",
              "      <th>5</th>\n",
              "      <td>Recommendations for relaxing music, podcasts, ...</td>\n",
              "      <td>Been struggling more with anxiety lately, and ...</td>\n",
              "      <td>53</td>\n",
              "      <td>autonomic overactivity/autonomic symptoms(53)</td>\n",
              "      <td>Anxiety</td>\n",
              "    </tr>\n",
              "    <tr>\n",
              "      <th>6</th>\n",
              "      <td>Does anyone else feel as if they're just bette...</td>\n",
              "      <td>Hey everyone, \\n\\nSo I've been dealing with IB...</td>\n",
              "      <td>57</td>\n",
              "      <td>Social phobia(57),</td>\n",
              "      <td>Anxiety</td>\n",
              "    </tr>\n",
              "    <tr>\n",
              "      <th>7</th>\n",
              "      <td>Buspar or propranolol?</td>\n",
              "      <td>Sorry if this is the wrong place to ask, but.....</td>\n",
              "      <td>0</td>\n",
              "      <td>No_symptom</td>\n",
              "      <td>Anxiety</td>\n",
              "    </tr>\n",
              "    <tr>\n",
              "      <th>8</th>\n",
              "      <td>Coping techniques?</td>\n",
              "      <td>I'm a freshman in high school. My boyfriend is...</td>\n",
              "      <td>63</td>\n",
              "      <td>apprehesion(63)</td>\n",
              "      <td>Anxiety</td>\n",
              "    </tr>\n",
              "    <tr>\n",
              "      <th>9</th>\n",
              "      <td>Relationships. Please help.</td>\n",
              "      <td>Hi friends, I'm very new to this subreddit, an...</td>\n",
              "      <td>58,53</td>\n",
              "      <td>a complaint of blushing, hand tremor, nausea, ...</td>\n",
              "      <td>Anxiety</td>\n",
              "    </tr>\n",
              "  </tbody>\n",
              "</table>\n",
              "</div>"
            ],
            "text/plain": [
              "                                               Title  ...  illness\n",
              "0  What have other people's experiences been wrt ...  ...  Anxiety\n",
              "1  Anxious when there's nothing to worry about; p...  ...  Anxiety\n",
              "2  I am fighting against anything and everything ...  ...  Anxiety\n",
              "3                 DAE have overwhelming mood swings?  ...  Anxiety\n",
              "4                          Am I just being paranoid?  ...  Anxiety\n",
              "5  Recommendations for relaxing music, podcasts, ...  ...  Anxiety\n",
              "6  Does anyone else feel as if they're just bette...  ...  Anxiety\n",
              "7                             Buspar or propranolol?  ...  Anxiety\n",
              "8                                 Coping techniques?  ...  Anxiety\n",
              "9                        Relationships. Please help.  ...  Anxiety\n",
              "\n",
              "[10 rows x 5 columns]"
            ]
          },
          "metadata": {},
          "execution_count": 5
        }
      ]
    },
    {
      "cell_type": "code",
      "metadata": {
        "colab": {
          "base_uri": "https://localhost:8080/"
        },
        "id": "-cKxgorhnK8O",
        "outputId": "23fa069d-b6e2-410a-9a19-843e0cba30ea"
      },
      "source": [
        "df['code']"
      ],
      "execution_count": null,
      "outputs": [
        {
          "output_type": "execute_result",
          "data": {
            "text/plain": [
              "0               58\n",
              "1               16\n",
              "2      29,32,34,57\n",
              "3               54\n",
              "4               39\n",
              "          ...     \n",
              "246             62\n",
              "247             63\n",
              "248             63\n",
              "249              0\n",
              "250             29\n",
              "Name: code, Length: 251, dtype: object"
            ]
          },
          "metadata": {},
          "execution_count": 6
        }
      ]
    },
    {
      "cell_type": "code",
      "metadata": {
        "colab": {
          "base_uri": "https://localhost:8080/"
        },
        "id": "PLns0hzxnVHl",
        "outputId": "0b3a5adb-68d3-4626-e870-562b804d40d8"
      },
      "source": [
        "df.isnull().any().sum()"
      ],
      "execution_count": null,
      "outputs": [
        {
          "output_type": "execute_result",
          "data": {
            "text/plain": [
              "3"
            ]
          },
          "metadata": {},
          "execution_count": 7
        }
      ]
    },
    {
      "cell_type": "code",
      "metadata": {
        "colab": {
          "base_uri": "https://localhost:8080/"
        },
        "id": "T3m7XlHOnWQr",
        "outputId": "79a2999f-f929-4eee-9561-225aaf92eac8"
      },
      "source": [
        "df['code'].isnull().sum()"
      ],
      "execution_count": null,
      "outputs": [
        {
          "output_type": "execute_result",
          "data": {
            "text/plain": [
              "2"
            ]
          },
          "metadata": {},
          "execution_count": 8
        }
      ]
    },
    {
      "cell_type": "code",
      "metadata": {
        "colab": {
          "base_uri": "https://localhost:8080/"
        },
        "id": "gFtQsBPImyje",
        "outputId": "3d4e6ec7-849f-49d7-e15e-6330639091a6"
      },
      "source": [
        "print(\"code:\",df[\"code\"].unique())"
      ],
      "execution_count": null,
      "outputs": [
        {
          "output_type": "stream",
          "name": "stdout",
          "text": [
            "code: ['58' '16' '29,32,34,57' '54' '39' '53' '57' '0' '63' '58,53'\n",
            " '49,63,62,39' '37,63' '56,57' '54,63' '54,53,62' '55,56,34' '36,63'\n",
            " '54,53' '46,55' '27,53' '57,63' '62,58' '59' '70,46' '29' '30,54' '56'\n",
            " '40,53,58,54,34,53,55,43' '54,36' '55' '53,57,58' '76,63'\n",
            " '36,37,38,63,43' '39,43,40,53' '63,54' '50,29,34'\n",
            " '39,77,54,57,64,63,36,59' '53,62' nan '53,76,63' '10' '54,53,36,63' '76'\n",
            " '29,57,53,58,63' '62,21' '54,63,53,58' '63,40,44,43' '73' '53,58'\n",
            " '59,57,54' '62' '59,63' '63,56' '25' '39,46' '63,62' '40'\n",
            " '55,29,39,57,29' '55,39,63' '76,77' '63,57' '77' '58,53,63' '57,39,76,53'\n",
            " '64,63,56' '53,54' '56,46' '56,54,63' '40,62' '57,63,77' '53,40' '30'\n",
            " '58,53,63,57' '53,63' '46' '43,37,63' '54,57,63' '55,63' '36,63,32'\n",
            " '32,59,63' '36' '63,59' '58,62,40' '57,54' '62,58,29' '55,63,64,56'\n",
            " '39,32' '63,76,36,62,56' '73,64,43' '29,61,53' '62,63' '59,43' '34,35'\n",
            " '89,43,39' '37,40' '53,59' '59,53,63' '58,34' '40,43' '46,57,54' '41,57'\n",
            " '33' '63,58,53' '53,57' '63,38' '70,71,75' '54,43' '40,55,54' '64,63'\n",
            " '40,50,25' '30,29,55' '54,63,53' '56,63' '43' '54,34' '63,1' '36,40'\n",
            " '63,40,34' '40,63,62' '54,36,53' '46,25,55' '63,53,54,49' '49,63,29,59'\n",
            " '43,63,34' '61' '54,62,63,53' '40,29' '63,29' '56,36' '46,43,36,37,25'\n",
            " '53,56,63']\n"
          ]
        }
      ]
    },
    {
      "cell_type": "code",
      "metadata": {
        "colab": {
          "base_uri": "https://localhost:8080/"
        },
        "id": "HoTGXCkBm0_S",
        "outputId": "47663422-147d-4205-d81f-38a54a008b35"
      },
      "source": [
        "df['code'].value_counts()"
      ],
      "execution_count": null,
      "outputs": [
        {
          "output_type": "execute_result",
          "data": {
            "text/plain": [
              "0           26\n",
              "63          23\n",
              "53          16\n",
              "54          12\n",
              "57           8\n",
              "            ..\n",
              "57,54        1\n",
              "53,56,63     1\n",
              "39,32        1\n",
              "59,43        1\n",
              "57,63,77     1\n",
              "Name: code, Length: 130, dtype: int64"
            ]
          },
          "metadata": {},
          "execution_count": 10
        }
      ]
    },
    {
      "cell_type": "code",
      "metadata": {
        "colab": {
          "base_uri": "https://localhost:8080/"
        },
        "id": "fwEaTPp1nbWd",
        "outputId": "47f4878a-7391-445f-b2c2-bf71c8ef5ab2"
      },
      "source": [
        "df['code'].replace(np.NaN,'0')"
      ],
      "execution_count": null,
      "outputs": [
        {
          "output_type": "execute_result",
          "data": {
            "text/plain": [
              "0               58\n",
              "1               16\n",
              "2      29,32,34,57\n",
              "3               54\n",
              "4               39\n",
              "          ...     \n",
              "246             62\n",
              "247             63\n",
              "248             63\n",
              "249              0\n",
              "250             29\n",
              "Name: code, Length: 251, dtype: object"
            ]
          },
          "metadata": {},
          "execution_count": 11
        }
      ]
    },
    {
      "cell_type": "code",
      "metadata": {
        "colab": {
          "base_uri": "https://localhost:8080/"
        },
        "id": "04QryTDbnf4W",
        "outputId": "fca2d2d3-d836-4797-9078-2ae2e7d81058"
      },
      "source": [
        "df['code'].value_counts()"
      ],
      "execution_count": null,
      "outputs": [
        {
          "output_type": "execute_result",
          "data": {
            "text/plain": [
              "0           26\n",
              "63          23\n",
              "53          16\n",
              "54          12\n",
              "57           8\n",
              "            ..\n",
              "57,54        1\n",
              "53,56,63     1\n",
              "39,32        1\n",
              "59,43        1\n",
              "57,63,77     1\n",
              "Name: code, Length: 130, dtype: int64"
            ]
          },
          "metadata": {},
          "execution_count": 12
        }
      ]
    },
    {
      "cell_type": "code",
      "metadata": {
        "id": "wlv9SlMFnipz"
      },
      "source": [
        "df = df.drop(columns=[\"symptom\",\"illness\"],axis=1)"
      ],
      "execution_count": null,
      "outputs": []
    },
    {
      "cell_type": "code",
      "metadata": {
        "id": "ZfDTnLxinkJm"
      },
      "source": [
        "df = df.dropna()"
      ],
      "execution_count": null,
      "outputs": []
    },
    {
      "cell_type": "code",
      "metadata": {
        "colab": {
          "base_uri": "https://localhost:8080/"
        },
        "id": "dD_fpVZvno7g",
        "outputId": "a6f17c10-9e49-4836-c1dc-dc78b440ec6d"
      },
      "source": [
        "df.info()"
      ],
      "execution_count": null,
      "outputs": [
        {
          "output_type": "stream",
          "name": "stdout",
          "text": [
            "<class 'pandas.core.frame.DataFrame'>\n",
            "Int64Index: 249 entries, 0 to 250\n",
            "Data columns (total 3 columns):\n",
            " #   Column   Non-Null Count  Dtype \n",
            "---  ------   --------------  ----- \n",
            " 0   Title    249 non-null    object\n",
            " 1   Comment  249 non-null    object\n",
            " 2   code     249 non-null    object\n",
            "dtypes: object(3)\n",
            "memory usage: 7.8+ KB\n"
          ]
        }
      ]
    },
    {
      "cell_type": "code",
      "metadata": {
        "id": "bjB55TXSnrOH"
      },
      "source": [
        "array2 = []"
      ],
      "execution_count": null,
      "outputs": []
    },
    {
      "cell_type": "code",
      "metadata": {
        "colab": {
          "base_uri": "https://localhost:8080/"
        },
        "id": "FfntixEwn6aO",
        "outputId": "e779cc99-7589-4c33-caa9-4065619e8e7c"
      },
      "source": [
        "for index, row in df.iterrows():\n",
        "    \n",
        "           splits =  row['code']\n",
        "           print(splits)\n",
        "           split2 =splits.split(',')\n",
        "           for words in split2:\n",
        "               if array2.count(words) == 0:\n",
        "                  array2.append(words)\n",
        "                   \n",
        "                   "
      ],
      "execution_count": null,
      "outputs": [
        {
          "output_type": "stream",
          "name": "stdout",
          "text": [
            "58\n",
            "16\n",
            "29,32,34,57\n",
            "54\n",
            "39\n",
            "53\n",
            "57\n",
            "0\n",
            "63\n",
            "58,53\n",
            "63\n",
            "49,63,62,39\n",
            "37,63\n",
            "54\n",
            "56,57\n",
            "54,63\n",
            "54,53,62\n",
            "53\n",
            "55,56,34\n",
            "36,63\n",
            "0\n",
            "54,53\n",
            "46,55\n",
            "27,53\n",
            "57,63\n",
            "63\n",
            "63\n",
            "62,58\n",
            "59\n",
            "70,46\n",
            "29\n",
            "30,54\n",
            "56\n",
            "40,53,58,54,34,53,55,43\n",
            "54,36\n",
            "56\n",
            "0\n",
            "56\n",
            "63\n",
            "55\n",
            "53,57,58\n",
            "57\n",
            "76,63\n",
            "36,37,38,63,43\n",
            "39,43,40,53\n",
            "63,54\n",
            "50,29,34\n",
            "39,77,54,57,64,63,36,59\n",
            "53,62\n",
            "63\n",
            "53,76,63\n",
            "53\n",
            "63\n",
            "54,53\n",
            "10\n",
            "54,53,36,63\n",
            "76\n",
            "57\n",
            "29,57,53,58,63\n",
            "62,21\n",
            "55\n",
            "54,63,53,58\n",
            "53\n",
            "53\n",
            "0\n",
            "53\n",
            "63,40,44,43\n",
            "73\n",
            "63\n",
            "0\n",
            "53,58\n",
            "54,63\n",
            "59,57,54\n",
            "62\n",
            "63\n",
            "54\n",
            "59,63\n",
            "53\n",
            "63,56\n",
            "53\n",
            "56\n",
            "58\n",
            "63\n",
            "25\n",
            "76\n",
            "57,63\n",
            "39,46\n",
            "56\n",
            "63\n",
            "63,62\n",
            "59\n",
            "40\n",
            "55,29,39,57,29\n",
            "55,39,63\n",
            "76,77\n",
            "63,57\n",
            "53\n",
            "77\n",
            "57\n",
            "58,53,63\n",
            "57,39,76,53\n",
            "64,63,56\n",
            "53,54\n",
            "56,46\n",
            "53\n",
            "56\n",
            "53\n",
            "56,54,63\n",
            "40,62\n",
            "57\n",
            "57,63,77\n",
            "53,40\n",
            "30\n",
            "58,53,63,57\n",
            "53,63\n",
            "54\n",
            "46\n",
            "43,37,63\n",
            "63\n",
            "54,57,63\n",
            "55,63\n",
            "36,63,32\n",
            "32,59,63\n",
            "36\n",
            "63,59\n",
            "54,63\n",
            "36\n",
            "58,62,40\n",
            "57,54\n",
            "62,58,29\n",
            "29\n",
            "55,63,64,56\n",
            "29\n",
            "63\n",
            "39,32\n",
            "46,55\n",
            "54\n",
            "63,76,36,62,56\n",
            "63\n",
            "0\n",
            "0\n",
            "53,63\n",
            "0\n",
            "63,57\n",
            "36\n",
            "54\n",
            "73,64,43\n",
            "29,61,53\n",
            "62,63\n",
            "58\n",
            "59,43\n",
            "63,54\n",
            "0\n",
            "0\n",
            "34,35\n",
            "54\n",
            "89,43,39\n",
            "37,40\n",
            "53,59\n",
            "59,53,63\n",
            "0\n",
            "59,63\n",
            "54,53\n",
            "58,34\n",
            "57\n",
            "0\n",
            "40,43\n",
            "53\n",
            "63\n",
            "0\n",
            "55\n",
            "46,57,54\n",
            "41,57\n",
            "0\n",
            "33\n",
            "53\n",
            "63,58,53\n",
            "53,57\n",
            "0\n",
            "63\n",
            "54,63\n",
            "63,38\n",
            "63\n",
            "54\n",
            "54\n",
            "70,71,75\n",
            "63\n",
            "57,63\n",
            "0\n",
            "36,63\n",
            "36,63\n",
            "54\n",
            "54\n",
            "54,43\n",
            "57\n",
            "40,55,54\n",
            "64,63\n",
            "0\n",
            "0\n",
            "36,63\n",
            "53\n",
            "40,50,25\n",
            "0\n",
            "63\n",
            "55\n",
            "30,29,55\n",
            "0\n",
            "54,63,53\n",
            "54\n",
            "57\n",
            "63\n",
            "56,63\n",
            "43\n",
            "0\n",
            "0\n",
            "54,34\n",
            "53\n",
            "39\n",
            "63,1\n",
            "36,40\n",
            "63,40,34\n",
            "40,63,62\n",
            "53,40\n",
            "54,36,53\n",
            "46,25,55\n",
            "62\n",
            "63,53,54,49\n",
            "49,63,29,59\n",
            "43,63,34\n",
            "53\n",
            "61\n",
            "54,63,53\n",
            "54,62,63,53\n",
            "0\n",
            "40,29\n",
            "63,29\n",
            "56,36\n",
            "43\n",
            "46,43,36,37,25\n",
            "63\n",
            "0\n",
            "53,56,63\n",
            "0\n",
            "58,53\n",
            "62\n",
            "63\n",
            "63\n",
            "0\n",
            "29\n"
          ]
        }
      ]
    },
    {
      "cell_type": "code",
      "metadata": {
        "colab": {
          "base_uri": "https://localhost:8080/"
        },
        "id": "aavUnFiin9f2",
        "outputId": "34d96d6f-fa8f-469e-b3e9-7cdfea1f8f21"
      },
      "source": [
        "array2"
      ],
      "execution_count": null,
      "outputs": [
        {
          "output_type": "execute_result",
          "data": {
            "text/plain": [
              "['58',\n",
              " '16',\n",
              " '29',\n",
              " '32',\n",
              " '34',\n",
              " '57',\n",
              " '54',\n",
              " '39',\n",
              " '53',\n",
              " '0',\n",
              " '63',\n",
              " '49',\n",
              " '62',\n",
              " '37',\n",
              " '56',\n",
              " '55',\n",
              " '36',\n",
              " '46',\n",
              " '27',\n",
              " '59',\n",
              " '70',\n",
              " '30',\n",
              " '40',\n",
              " '43',\n",
              " '76',\n",
              " '38',\n",
              " '50',\n",
              " '77',\n",
              " '64',\n",
              " '10',\n",
              " '21',\n",
              " '44',\n",
              " '73',\n",
              " '25',\n",
              " '61',\n",
              " '35',\n",
              " '89',\n",
              " '41',\n",
              " '33',\n",
              " '71',\n",
              " '75',\n",
              " '1']"
            ]
          },
          "metadata": {},
          "execution_count": 18
        }
      ]
    },
    {
      "cell_type": "code",
      "metadata": {
        "colab": {
          "base_uri": "https://localhost:8080/"
        },
        "id": "GYKLxhfln_7V",
        "outputId": "26fa9404-7d31-4197-8466-f47ce73f79aa"
      },
      "source": [
        "len(array2)"
      ],
      "execution_count": null,
      "outputs": [
        {
          "output_type": "execute_result",
          "data": {
            "text/plain": [
              "42"
            ]
          },
          "metadata": {},
          "execution_count": 19
        }
      ]
    },
    {
      "cell_type": "code",
      "metadata": {
        "colab": {
          "base_uri": "https://localhost:8080/",
          "height": 50
        },
        "id": "zmxyLR-boCK3",
        "outputId": "1920c409-5988-423e-a52b-c950fe736809"
      },
      "source": [
        "df2 = pd.DataFrame(columns=array2)\n",
        "df2"
      ],
      "execution_count": null,
      "outputs": [
        {
          "output_type": "execute_result",
          "data": {
            "text/html": [
              "<div>\n",
              "<style scoped>\n",
              "    .dataframe tbody tr th:only-of-type {\n",
              "        vertical-align: middle;\n",
              "    }\n",
              "\n",
              "    .dataframe tbody tr th {\n",
              "        vertical-align: top;\n",
              "    }\n",
              "\n",
              "    .dataframe thead th {\n",
              "        text-align: right;\n",
              "    }\n",
              "</style>\n",
              "<table border=\"1\" class=\"dataframe\">\n",
              "  <thead>\n",
              "    <tr style=\"text-align: right;\">\n",
              "      <th></th>\n",
              "      <th>58</th>\n",
              "      <th>16</th>\n",
              "      <th>29</th>\n",
              "      <th>32</th>\n",
              "      <th>34</th>\n",
              "      <th>57</th>\n",
              "      <th>54</th>\n",
              "      <th>39</th>\n",
              "      <th>53</th>\n",
              "      <th>0</th>\n",
              "      <th>63</th>\n",
              "      <th>49</th>\n",
              "      <th>62</th>\n",
              "      <th>37</th>\n",
              "      <th>56</th>\n",
              "      <th>55</th>\n",
              "      <th>36</th>\n",
              "      <th>46</th>\n",
              "      <th>27</th>\n",
              "      <th>59</th>\n",
              "      <th>70</th>\n",
              "      <th>30</th>\n",
              "      <th>40</th>\n",
              "      <th>43</th>\n",
              "      <th>76</th>\n",
              "      <th>38</th>\n",
              "      <th>50</th>\n",
              "      <th>77</th>\n",
              "      <th>64</th>\n",
              "      <th>10</th>\n",
              "      <th>21</th>\n",
              "      <th>44</th>\n",
              "      <th>73</th>\n",
              "      <th>25</th>\n",
              "      <th>61</th>\n",
              "      <th>35</th>\n",
              "      <th>89</th>\n",
              "      <th>41</th>\n",
              "      <th>33</th>\n",
              "      <th>71</th>\n",
              "      <th>75</th>\n",
              "      <th>1</th>\n",
              "    </tr>\n",
              "  </thead>\n",
              "  <tbody>\n",
              "  </tbody>\n",
              "</table>\n",
              "</div>"
            ],
            "text/plain": [
              "Empty DataFrame\n",
              "Columns: [58, 16, 29, 32, 34, 57, 54, 39, 53, 0, 63, 49, 62, 37, 56, 55, 36, 46, 27, 59, 70, 30, 40, 43, 76, 38, 50, 77, 64, 10, 21, 44, 73, 25, 61, 35, 89, 41, 33, 71, 75, 1]\n",
              "Index: []"
            ]
          },
          "metadata": {},
          "execution_count": 20
        }
      ]
    },
    {
      "cell_type": "code",
      "metadata": {
        "colab": {
          "base_uri": "https://localhost:8080/",
          "height": 1000
        },
        "id": "6-VwCqDvoEYy",
        "outputId": "efcbfe20-a63e-4617-8f89-f9b40568ec4b"
      },
      "source": [
        "df_row = pd.concat([df, df2])\n",
        "\n",
        "df_row"
      ],
      "execution_count": null,
      "outputs": [
        {
          "output_type": "execute_result",
          "data": {
            "text/html": [
              "<div>\n",
              "<style scoped>\n",
              "    .dataframe tbody tr th:only-of-type {\n",
              "        vertical-align: middle;\n",
              "    }\n",
              "\n",
              "    .dataframe tbody tr th {\n",
              "        vertical-align: top;\n",
              "    }\n",
              "\n",
              "    .dataframe thead th {\n",
              "        text-align: right;\n",
              "    }\n",
              "</style>\n",
              "<table border=\"1\" class=\"dataframe\">\n",
              "  <thead>\n",
              "    <tr style=\"text-align: right;\">\n",
              "      <th></th>\n",
              "      <th>Title</th>\n",
              "      <th>Comment</th>\n",
              "      <th>code</th>\n",
              "      <th>58</th>\n",
              "      <th>16</th>\n",
              "      <th>29</th>\n",
              "      <th>32</th>\n",
              "      <th>34</th>\n",
              "      <th>57</th>\n",
              "      <th>54</th>\n",
              "      <th>39</th>\n",
              "      <th>53</th>\n",
              "      <th>0</th>\n",
              "      <th>63</th>\n",
              "      <th>49</th>\n",
              "      <th>62</th>\n",
              "      <th>37</th>\n",
              "      <th>56</th>\n",
              "      <th>55</th>\n",
              "      <th>36</th>\n",
              "      <th>46</th>\n",
              "      <th>27</th>\n",
              "      <th>59</th>\n",
              "      <th>70</th>\n",
              "      <th>30</th>\n",
              "      <th>40</th>\n",
              "      <th>43</th>\n",
              "      <th>76</th>\n",
              "      <th>38</th>\n",
              "      <th>50</th>\n",
              "      <th>77</th>\n",
              "      <th>64</th>\n",
              "      <th>10</th>\n",
              "      <th>21</th>\n",
              "      <th>44</th>\n",
              "      <th>73</th>\n",
              "      <th>25</th>\n",
              "      <th>61</th>\n",
              "      <th>35</th>\n",
              "      <th>89</th>\n",
              "      <th>41</th>\n",
              "      <th>33</th>\n",
              "      <th>71</th>\n",
              "      <th>75</th>\n",
              "      <th>1</th>\n",
              "    </tr>\n",
              "  </thead>\n",
              "  <tbody>\n",
              "    <tr>\n",
              "      <th>0</th>\n",
              "      <td>What have other people's experiences been wrt ...</td>\n",
              "      <td>Quick question. For people who have been on an...</td>\n",
              "      <td>58</td>\n",
              "      <td>NaN</td>\n",
              "      <td>NaN</td>\n",
              "      <td>NaN</td>\n",
              "      <td>NaN</td>\n",
              "      <td>NaN</td>\n",
              "      <td>NaN</td>\n",
              "      <td>NaN</td>\n",
              "      <td>NaN</td>\n",
              "      <td>NaN</td>\n",
              "      <td>NaN</td>\n",
              "      <td>NaN</td>\n",
              "      <td>NaN</td>\n",
              "      <td>NaN</td>\n",
              "      <td>NaN</td>\n",
              "      <td>NaN</td>\n",
              "      <td>NaN</td>\n",
              "      <td>NaN</td>\n",
              "      <td>NaN</td>\n",
              "      <td>NaN</td>\n",
              "      <td>NaN</td>\n",
              "      <td>NaN</td>\n",
              "      <td>NaN</td>\n",
              "      <td>NaN</td>\n",
              "      <td>NaN</td>\n",
              "      <td>NaN</td>\n",
              "      <td>NaN</td>\n",
              "      <td>NaN</td>\n",
              "      <td>NaN</td>\n",
              "      <td>NaN</td>\n",
              "      <td>NaN</td>\n",
              "      <td>NaN</td>\n",
              "      <td>NaN</td>\n",
              "      <td>NaN</td>\n",
              "      <td>NaN</td>\n",
              "      <td>NaN</td>\n",
              "      <td>NaN</td>\n",
              "      <td>NaN</td>\n",
              "      <td>NaN</td>\n",
              "      <td>NaN</td>\n",
              "      <td>NaN</td>\n",
              "      <td>NaN</td>\n",
              "      <td>NaN</td>\n",
              "    </tr>\n",
              "    <tr>\n",
              "      <th>1</th>\n",
              "      <td>Anxious when there's nothing to worry about; p...</td>\n",
              "      <td>This problem happens randomly and sometimes wh...</td>\n",
              "      <td>16</td>\n",
              "      <td>NaN</td>\n",
              "      <td>NaN</td>\n",
              "      <td>NaN</td>\n",
              "      <td>NaN</td>\n",
              "      <td>NaN</td>\n",
              "      <td>NaN</td>\n",
              "      <td>NaN</td>\n",
              "      <td>NaN</td>\n",
              "      <td>NaN</td>\n",
              "      <td>NaN</td>\n",
              "      <td>NaN</td>\n",
              "      <td>NaN</td>\n",
              "      <td>NaN</td>\n",
              "      <td>NaN</td>\n",
              "      <td>NaN</td>\n",
              "      <td>NaN</td>\n",
              "      <td>NaN</td>\n",
              "      <td>NaN</td>\n",
              "      <td>NaN</td>\n",
              "      <td>NaN</td>\n",
              "      <td>NaN</td>\n",
              "      <td>NaN</td>\n",
              "      <td>NaN</td>\n",
              "      <td>NaN</td>\n",
              "      <td>NaN</td>\n",
              "      <td>NaN</td>\n",
              "      <td>NaN</td>\n",
              "      <td>NaN</td>\n",
              "      <td>NaN</td>\n",
              "      <td>NaN</td>\n",
              "      <td>NaN</td>\n",
              "      <td>NaN</td>\n",
              "      <td>NaN</td>\n",
              "      <td>NaN</td>\n",
              "      <td>NaN</td>\n",
              "      <td>NaN</td>\n",
              "      <td>NaN</td>\n",
              "      <td>NaN</td>\n",
              "      <td>NaN</td>\n",
              "      <td>NaN</td>\n",
              "      <td>NaN</td>\n",
              "      <td>NaN</td>\n",
              "    </tr>\n",
              "    <tr>\n",
              "      <th>2</th>\n",
              "      <td>I am fighting against anything and everything ...</td>\n",
              "      <td>I am fighting against my own head\\n\\nI am figh...</td>\n",
              "      <td>29,32,34,57</td>\n",
              "      <td>NaN</td>\n",
              "      <td>NaN</td>\n",
              "      <td>NaN</td>\n",
              "      <td>NaN</td>\n",
              "      <td>NaN</td>\n",
              "      <td>NaN</td>\n",
              "      <td>NaN</td>\n",
              "      <td>NaN</td>\n",
              "      <td>NaN</td>\n",
              "      <td>NaN</td>\n",
              "      <td>NaN</td>\n",
              "      <td>NaN</td>\n",
              "      <td>NaN</td>\n",
              "      <td>NaN</td>\n",
              "      <td>NaN</td>\n",
              "      <td>NaN</td>\n",
              "      <td>NaN</td>\n",
              "      <td>NaN</td>\n",
              "      <td>NaN</td>\n",
              "      <td>NaN</td>\n",
              "      <td>NaN</td>\n",
              "      <td>NaN</td>\n",
              "      <td>NaN</td>\n",
              "      <td>NaN</td>\n",
              "      <td>NaN</td>\n",
              "      <td>NaN</td>\n",
              "      <td>NaN</td>\n",
              "      <td>NaN</td>\n",
              "      <td>NaN</td>\n",
              "      <td>NaN</td>\n",
              "      <td>NaN</td>\n",
              "      <td>NaN</td>\n",
              "      <td>NaN</td>\n",
              "      <td>NaN</td>\n",
              "      <td>NaN</td>\n",
              "      <td>NaN</td>\n",
              "      <td>NaN</td>\n",
              "      <td>NaN</td>\n",
              "      <td>NaN</td>\n",
              "      <td>NaN</td>\n",
              "      <td>NaN</td>\n",
              "      <td>NaN</td>\n",
              "    </tr>\n",
              "    <tr>\n",
              "      <th>3</th>\n",
              "      <td>DAE have overwhelming mood swings?</td>\n",
              "      <td>Allow me to elaborate: You're sitting at your ...</td>\n",
              "      <td>54</td>\n",
              "      <td>NaN</td>\n",
              "      <td>NaN</td>\n",
              "      <td>NaN</td>\n",
              "      <td>NaN</td>\n",
              "      <td>NaN</td>\n",
              "      <td>NaN</td>\n",
              "      <td>NaN</td>\n",
              "      <td>NaN</td>\n",
              "      <td>NaN</td>\n",
              "      <td>NaN</td>\n",
              "      <td>NaN</td>\n",
              "      <td>NaN</td>\n",
              "      <td>NaN</td>\n",
              "      <td>NaN</td>\n",
              "      <td>NaN</td>\n",
              "      <td>NaN</td>\n",
              "      <td>NaN</td>\n",
              "      <td>NaN</td>\n",
              "      <td>NaN</td>\n",
              "      <td>NaN</td>\n",
              "      <td>NaN</td>\n",
              "      <td>NaN</td>\n",
              "      <td>NaN</td>\n",
              "      <td>NaN</td>\n",
              "      <td>NaN</td>\n",
              "      <td>NaN</td>\n",
              "      <td>NaN</td>\n",
              "      <td>NaN</td>\n",
              "      <td>NaN</td>\n",
              "      <td>NaN</td>\n",
              "      <td>NaN</td>\n",
              "      <td>NaN</td>\n",
              "      <td>NaN</td>\n",
              "      <td>NaN</td>\n",
              "      <td>NaN</td>\n",
              "      <td>NaN</td>\n",
              "      <td>NaN</td>\n",
              "      <td>NaN</td>\n",
              "      <td>NaN</td>\n",
              "      <td>NaN</td>\n",
              "      <td>NaN</td>\n",
              "      <td>NaN</td>\n",
              "    </tr>\n",
              "    <tr>\n",
              "      <th>4</th>\n",
              "      <td>Am I just being paranoid?</td>\n",
              "      <td>I constantly worry and over think about many s...</td>\n",
              "      <td>39</td>\n",
              "      <td>NaN</td>\n",
              "      <td>NaN</td>\n",
              "      <td>NaN</td>\n",
              "      <td>NaN</td>\n",
              "      <td>NaN</td>\n",
              "      <td>NaN</td>\n",
              "      <td>NaN</td>\n",
              "      <td>NaN</td>\n",
              "      <td>NaN</td>\n",
              "      <td>NaN</td>\n",
              "      <td>NaN</td>\n",
              "      <td>NaN</td>\n",
              "      <td>NaN</td>\n",
              "      <td>NaN</td>\n",
              "      <td>NaN</td>\n",
              "      <td>NaN</td>\n",
              "      <td>NaN</td>\n",
              "      <td>NaN</td>\n",
              "      <td>NaN</td>\n",
              "      <td>NaN</td>\n",
              "      <td>NaN</td>\n",
              "      <td>NaN</td>\n",
              "      <td>NaN</td>\n",
              "      <td>NaN</td>\n",
              "      <td>NaN</td>\n",
              "      <td>NaN</td>\n",
              "      <td>NaN</td>\n",
              "      <td>NaN</td>\n",
              "      <td>NaN</td>\n",
              "      <td>NaN</td>\n",
              "      <td>NaN</td>\n",
              "      <td>NaN</td>\n",
              "      <td>NaN</td>\n",
              "      <td>NaN</td>\n",
              "      <td>NaN</td>\n",
              "      <td>NaN</td>\n",
              "      <td>NaN</td>\n",
              "      <td>NaN</td>\n",
              "      <td>NaN</td>\n",
              "      <td>NaN</td>\n",
              "      <td>NaN</td>\n",
              "      <td>NaN</td>\n",
              "    </tr>\n",
              "    <tr>\n",
              "      <th>...</th>\n",
              "      <td>...</td>\n",
              "      <td>...</td>\n",
              "      <td>...</td>\n",
              "      <td>...</td>\n",
              "      <td>...</td>\n",
              "      <td>...</td>\n",
              "      <td>...</td>\n",
              "      <td>...</td>\n",
              "      <td>...</td>\n",
              "      <td>...</td>\n",
              "      <td>...</td>\n",
              "      <td>...</td>\n",
              "      <td>...</td>\n",
              "      <td>...</td>\n",
              "      <td>...</td>\n",
              "      <td>...</td>\n",
              "      <td>...</td>\n",
              "      <td>...</td>\n",
              "      <td>...</td>\n",
              "      <td>...</td>\n",
              "      <td>...</td>\n",
              "      <td>...</td>\n",
              "      <td>...</td>\n",
              "      <td>...</td>\n",
              "      <td>...</td>\n",
              "      <td>...</td>\n",
              "      <td>...</td>\n",
              "      <td>...</td>\n",
              "      <td>...</td>\n",
              "      <td>...</td>\n",
              "      <td>...</td>\n",
              "      <td>...</td>\n",
              "      <td>...</td>\n",
              "      <td>...</td>\n",
              "      <td>...</td>\n",
              "      <td>...</td>\n",
              "      <td>...</td>\n",
              "      <td>...</td>\n",
              "      <td>...</td>\n",
              "      <td>...</td>\n",
              "      <td>...</td>\n",
              "      <td>...</td>\n",
              "      <td>...</td>\n",
              "      <td>...</td>\n",
              "      <td>...</td>\n",
              "    </tr>\n",
              "    <tr>\n",
              "      <th>246</th>\n",
              "      <td>TIL: Sitting still a lot = more anxiety</td>\n",
              "      <td>After coming home from a NYE party where I was...</td>\n",
              "      <td>62</td>\n",
              "      <td>NaN</td>\n",
              "      <td>NaN</td>\n",
              "      <td>NaN</td>\n",
              "      <td>NaN</td>\n",
              "      <td>NaN</td>\n",
              "      <td>NaN</td>\n",
              "      <td>NaN</td>\n",
              "      <td>NaN</td>\n",
              "      <td>NaN</td>\n",
              "      <td>NaN</td>\n",
              "      <td>NaN</td>\n",
              "      <td>NaN</td>\n",
              "      <td>NaN</td>\n",
              "      <td>NaN</td>\n",
              "      <td>NaN</td>\n",
              "      <td>NaN</td>\n",
              "      <td>NaN</td>\n",
              "      <td>NaN</td>\n",
              "      <td>NaN</td>\n",
              "      <td>NaN</td>\n",
              "      <td>NaN</td>\n",
              "      <td>NaN</td>\n",
              "      <td>NaN</td>\n",
              "      <td>NaN</td>\n",
              "      <td>NaN</td>\n",
              "      <td>NaN</td>\n",
              "      <td>NaN</td>\n",
              "      <td>NaN</td>\n",
              "      <td>NaN</td>\n",
              "      <td>NaN</td>\n",
              "      <td>NaN</td>\n",
              "      <td>NaN</td>\n",
              "      <td>NaN</td>\n",
              "      <td>NaN</td>\n",
              "      <td>NaN</td>\n",
              "      <td>NaN</td>\n",
              "      <td>NaN</td>\n",
              "      <td>NaN</td>\n",
              "      <td>NaN</td>\n",
              "      <td>NaN</td>\n",
              "      <td>NaN</td>\n",
              "      <td>NaN</td>\n",
              "    </tr>\n",
              "    <tr>\n",
              "      <th>247</th>\n",
              "      <td>Anxiety Reliefs?</td>\n",
              "      <td>I've been dealing with anxiety for years, and ...</td>\n",
              "      <td>63</td>\n",
              "      <td>NaN</td>\n",
              "      <td>NaN</td>\n",
              "      <td>NaN</td>\n",
              "      <td>NaN</td>\n",
              "      <td>NaN</td>\n",
              "      <td>NaN</td>\n",
              "      <td>NaN</td>\n",
              "      <td>NaN</td>\n",
              "      <td>NaN</td>\n",
              "      <td>NaN</td>\n",
              "      <td>NaN</td>\n",
              "      <td>NaN</td>\n",
              "      <td>NaN</td>\n",
              "      <td>NaN</td>\n",
              "      <td>NaN</td>\n",
              "      <td>NaN</td>\n",
              "      <td>NaN</td>\n",
              "      <td>NaN</td>\n",
              "      <td>NaN</td>\n",
              "      <td>NaN</td>\n",
              "      <td>NaN</td>\n",
              "      <td>NaN</td>\n",
              "      <td>NaN</td>\n",
              "      <td>NaN</td>\n",
              "      <td>NaN</td>\n",
              "      <td>NaN</td>\n",
              "      <td>NaN</td>\n",
              "      <td>NaN</td>\n",
              "      <td>NaN</td>\n",
              "      <td>NaN</td>\n",
              "      <td>NaN</td>\n",
              "      <td>NaN</td>\n",
              "      <td>NaN</td>\n",
              "      <td>NaN</td>\n",
              "      <td>NaN</td>\n",
              "      <td>NaN</td>\n",
              "      <td>NaN</td>\n",
              "      <td>NaN</td>\n",
              "      <td>NaN</td>\n",
              "      <td>NaN</td>\n",
              "      <td>NaN</td>\n",
              "      <td>NaN</td>\n",
              "    </tr>\n",
              "    <tr>\n",
              "      <th>248</th>\n",
              "      <td>Having A Little Breakdown</td>\n",
              "      <td>Hey guys,\\n\\nSo today is my birthday, I'm 29 a...</td>\n",
              "      <td>63</td>\n",
              "      <td>NaN</td>\n",
              "      <td>NaN</td>\n",
              "      <td>NaN</td>\n",
              "      <td>NaN</td>\n",
              "      <td>NaN</td>\n",
              "      <td>NaN</td>\n",
              "      <td>NaN</td>\n",
              "      <td>NaN</td>\n",
              "      <td>NaN</td>\n",
              "      <td>NaN</td>\n",
              "      <td>NaN</td>\n",
              "      <td>NaN</td>\n",
              "      <td>NaN</td>\n",
              "      <td>NaN</td>\n",
              "      <td>NaN</td>\n",
              "      <td>NaN</td>\n",
              "      <td>NaN</td>\n",
              "      <td>NaN</td>\n",
              "      <td>NaN</td>\n",
              "      <td>NaN</td>\n",
              "      <td>NaN</td>\n",
              "      <td>NaN</td>\n",
              "      <td>NaN</td>\n",
              "      <td>NaN</td>\n",
              "      <td>NaN</td>\n",
              "      <td>NaN</td>\n",
              "      <td>NaN</td>\n",
              "      <td>NaN</td>\n",
              "      <td>NaN</td>\n",
              "      <td>NaN</td>\n",
              "      <td>NaN</td>\n",
              "      <td>NaN</td>\n",
              "      <td>NaN</td>\n",
              "      <td>NaN</td>\n",
              "      <td>NaN</td>\n",
              "      <td>NaN</td>\n",
              "      <td>NaN</td>\n",
              "      <td>NaN</td>\n",
              "      <td>NaN</td>\n",
              "      <td>NaN</td>\n",
              "      <td>NaN</td>\n",
              "      <td>NaN</td>\n",
              "    </tr>\n",
              "    <tr>\n",
              "      <th>249</th>\n",
              "      <td>Are Meds worth it?</td>\n",
              "      <td>First of all, I'm so glad I found this communi...</td>\n",
              "      <td>0</td>\n",
              "      <td>NaN</td>\n",
              "      <td>NaN</td>\n",
              "      <td>NaN</td>\n",
              "      <td>NaN</td>\n",
              "      <td>NaN</td>\n",
              "      <td>NaN</td>\n",
              "      <td>NaN</td>\n",
              "      <td>NaN</td>\n",
              "      <td>NaN</td>\n",
              "      <td>NaN</td>\n",
              "      <td>NaN</td>\n",
              "      <td>NaN</td>\n",
              "      <td>NaN</td>\n",
              "      <td>NaN</td>\n",
              "      <td>NaN</td>\n",
              "      <td>NaN</td>\n",
              "      <td>NaN</td>\n",
              "      <td>NaN</td>\n",
              "      <td>NaN</td>\n",
              "      <td>NaN</td>\n",
              "      <td>NaN</td>\n",
              "      <td>NaN</td>\n",
              "      <td>NaN</td>\n",
              "      <td>NaN</td>\n",
              "      <td>NaN</td>\n",
              "      <td>NaN</td>\n",
              "      <td>NaN</td>\n",
              "      <td>NaN</td>\n",
              "      <td>NaN</td>\n",
              "      <td>NaN</td>\n",
              "      <td>NaN</td>\n",
              "      <td>NaN</td>\n",
              "      <td>NaN</td>\n",
              "      <td>NaN</td>\n",
              "      <td>NaN</td>\n",
              "      <td>NaN</td>\n",
              "      <td>NaN</td>\n",
              "      <td>NaN</td>\n",
              "      <td>NaN</td>\n",
              "      <td>NaN</td>\n",
              "      <td>NaN</td>\n",
              "      <td>NaN</td>\n",
              "    </tr>\n",
              "    <tr>\n",
              "      <th>250</th>\n",
              "      <td>Tips for self-sabotaging anxiety</td>\n",
              "      <td>Sometimes, I get in a rhythm while doing somet...</td>\n",
              "      <td>29</td>\n",
              "      <td>NaN</td>\n",
              "      <td>NaN</td>\n",
              "      <td>NaN</td>\n",
              "      <td>NaN</td>\n",
              "      <td>NaN</td>\n",
              "      <td>NaN</td>\n",
              "      <td>NaN</td>\n",
              "      <td>NaN</td>\n",
              "      <td>NaN</td>\n",
              "      <td>NaN</td>\n",
              "      <td>NaN</td>\n",
              "      <td>NaN</td>\n",
              "      <td>NaN</td>\n",
              "      <td>NaN</td>\n",
              "      <td>NaN</td>\n",
              "      <td>NaN</td>\n",
              "      <td>NaN</td>\n",
              "      <td>NaN</td>\n",
              "      <td>NaN</td>\n",
              "      <td>NaN</td>\n",
              "      <td>NaN</td>\n",
              "      <td>NaN</td>\n",
              "      <td>NaN</td>\n",
              "      <td>NaN</td>\n",
              "      <td>NaN</td>\n",
              "      <td>NaN</td>\n",
              "      <td>NaN</td>\n",
              "      <td>NaN</td>\n",
              "      <td>NaN</td>\n",
              "      <td>NaN</td>\n",
              "      <td>NaN</td>\n",
              "      <td>NaN</td>\n",
              "      <td>NaN</td>\n",
              "      <td>NaN</td>\n",
              "      <td>NaN</td>\n",
              "      <td>NaN</td>\n",
              "      <td>NaN</td>\n",
              "      <td>NaN</td>\n",
              "      <td>NaN</td>\n",
              "      <td>NaN</td>\n",
              "      <td>NaN</td>\n",
              "      <td>NaN</td>\n",
              "    </tr>\n",
              "  </tbody>\n",
              "</table>\n",
              "<p>249 rows × 45 columns</p>\n",
              "</div>"
            ],
            "text/plain": [
              "                                                 Title  ...    1\n",
              "0    What have other people's experiences been wrt ...  ...  NaN\n",
              "1    Anxious when there's nothing to worry about; p...  ...  NaN\n",
              "2    I am fighting against anything and everything ...  ...  NaN\n",
              "3                   DAE have overwhelming mood swings?  ...  NaN\n",
              "4                            Am I just being paranoid?  ...  NaN\n",
              "..                                                 ...  ...  ...\n",
              "246            TIL: Sitting still a lot = more anxiety  ...  NaN\n",
              "247                                   Anxiety Reliefs?  ...  NaN\n",
              "248                          Having A Little Breakdown  ...  NaN\n",
              "249                                 Are Meds worth it?  ...  NaN\n",
              "250                   Tips for self-sabotaging anxiety  ...  NaN\n",
              "\n",
              "[249 rows x 45 columns]"
            ]
          },
          "metadata": {},
          "execution_count": 21
        }
      ]
    },
    {
      "cell_type": "code",
      "metadata": {
        "colab": {
          "base_uri": "https://localhost:8080/"
        },
        "id": "BHJ_OIymoH5-",
        "outputId": "90875ca5-05a3-48fd-986f-5eb97ae2011d"
      },
      "source": [
        "for index, row in df_row.iterrows():\n",
        "    \n",
        "           splits =  row['code']\n",
        "           print(splits)\n",
        "           split2 =splits.split(',')\n",
        "           for words in split2:\n",
        "             row[words]=1\n",
        "   "
      ],
      "execution_count": null,
      "outputs": [
        {
          "output_type": "stream",
          "name": "stdout",
          "text": [
            "58\n",
            "16\n",
            "29,32,34,57\n",
            "54\n",
            "39\n",
            "53\n",
            "57\n",
            "0\n",
            "63\n",
            "58,53\n",
            "63\n",
            "49,63,62,39\n",
            "37,63\n",
            "54\n",
            "56,57\n",
            "54,63\n",
            "54,53,62\n",
            "53\n",
            "55,56,34\n",
            "36,63\n",
            "0\n",
            "54,53\n",
            "46,55\n",
            "27,53\n",
            "57,63\n",
            "63\n",
            "63\n",
            "62,58\n",
            "59\n",
            "70,46\n",
            "29\n",
            "30,54\n",
            "56\n",
            "40,53,58,54,34,53,55,43\n",
            "54,36\n",
            "56\n",
            "0\n",
            "56\n",
            "63\n",
            "55\n",
            "53,57,58\n",
            "57\n",
            "76,63\n",
            "36,37,38,63,43\n",
            "39,43,40,53\n",
            "63,54\n",
            "50,29,34\n",
            "39,77,54,57,64,63,36,59\n",
            "53,62\n",
            "63\n",
            "53,76,63\n",
            "53\n",
            "63\n",
            "54,53\n",
            "10\n",
            "54,53,36,63\n",
            "76\n",
            "57\n",
            "29,57,53,58,63\n",
            "62,21\n",
            "55\n",
            "54,63,53,58\n",
            "53\n",
            "53\n",
            "0\n",
            "53\n",
            "63,40,44,43\n",
            "73\n",
            "63\n",
            "0\n",
            "53,58\n",
            "54,63\n",
            "59,57,54\n",
            "62\n",
            "63\n",
            "54\n",
            "59,63\n",
            "53\n",
            "63,56\n",
            "53\n",
            "56\n",
            "58\n",
            "63\n",
            "25\n",
            "76\n",
            "57,63\n",
            "39,46\n",
            "56\n",
            "63\n",
            "63,62\n",
            "59\n",
            "40\n",
            "55,29,39,57,29\n",
            "55,39,63\n",
            "76,77\n",
            "63,57\n",
            "53\n",
            "77\n",
            "57\n",
            "58,53,63\n",
            "57,39,76,53\n",
            "64,63,56\n",
            "53,54\n",
            "56,46\n",
            "53\n",
            "56\n",
            "53\n",
            "56,54,63\n",
            "40,62\n",
            "57\n",
            "57,63,77\n",
            "53,40\n",
            "30\n",
            "58,53,63,57\n",
            "53,63\n",
            "54\n",
            "46\n",
            "43,37,63\n",
            "63\n",
            "54,57,63\n",
            "55,63\n",
            "36,63,32\n",
            "32,59,63\n",
            "36\n",
            "63,59\n",
            "54,63\n",
            "36\n",
            "58,62,40\n",
            "57,54\n",
            "62,58,29\n",
            "29\n",
            "55,63,64,56\n",
            "29\n",
            "63\n",
            "39,32\n",
            "46,55\n",
            "54\n",
            "63,76,36,62,56\n",
            "63\n",
            "0\n",
            "0\n",
            "53,63\n",
            "0\n",
            "63,57\n",
            "36\n",
            "54\n",
            "73,64,43\n",
            "29,61,53\n",
            "62,63\n",
            "58\n",
            "59,43\n",
            "63,54\n",
            "0\n",
            "0\n",
            "34,35\n",
            "54\n",
            "89,43,39\n",
            "37,40\n",
            "53,59\n",
            "59,53,63\n",
            "0\n",
            "59,63\n",
            "54,53\n",
            "58,34\n",
            "57\n",
            "0\n",
            "40,43\n",
            "53\n",
            "63\n",
            "0\n",
            "55\n",
            "46,57,54\n",
            "41,57\n",
            "0\n",
            "33\n",
            "53\n",
            "63,58,53\n",
            "53,57\n",
            "0\n",
            "63\n",
            "54,63\n",
            "63,38\n",
            "63\n",
            "54\n",
            "54\n",
            "70,71,75\n",
            "63\n",
            "57,63\n",
            "0\n",
            "36,63\n",
            "36,63\n",
            "54\n",
            "54\n",
            "54,43\n",
            "57\n",
            "40,55,54\n",
            "64,63\n",
            "0\n",
            "0\n",
            "36,63\n",
            "53\n",
            "40,50,25\n",
            "0\n",
            "63\n",
            "55\n",
            "30,29,55\n",
            "0\n",
            "54,63,53\n",
            "54\n",
            "57\n",
            "63\n",
            "56,63\n",
            "43\n",
            "0\n",
            "0\n",
            "54,34\n",
            "53\n",
            "39\n",
            "63,1\n",
            "36,40\n",
            "63,40,34\n",
            "40,63,62\n",
            "53,40\n",
            "54,36,53\n",
            "46,25,55\n",
            "62\n",
            "63,53,54,49\n",
            "49,63,29,59\n",
            "43,63,34\n",
            "53\n",
            "61\n",
            "54,63,53\n",
            "54,62,63,53\n",
            "0\n",
            "40,29\n",
            "63,29\n",
            "56,36\n",
            "43\n",
            "46,43,36,37,25\n",
            "63\n",
            "0\n",
            "53,56,63\n",
            "0\n",
            "58,53\n",
            "62\n",
            "63\n",
            "63\n",
            "0\n",
            "29\n"
          ]
        }
      ]
    },
    {
      "cell_type": "code",
      "metadata": {
        "id": "Ut-kOmEFoIyb"
      },
      "source": [
        "df_row=df_row.replace(np.NaN,0)"
      ],
      "execution_count": null,
      "outputs": []
    },
    {
      "cell_type": "code",
      "metadata": {
        "colab": {
          "base_uri": "https://localhost:8080/",
          "height": 1000
        },
        "id": "HmznoS1CoN1D",
        "outputId": "2f219811-1819-4eb4-8b84-731d398f7564"
      },
      "source": [
        "df_row"
      ],
      "execution_count": null,
      "outputs": [
        {
          "output_type": "execute_result",
          "data": {
            "text/html": [
              "<div>\n",
              "<style scoped>\n",
              "    .dataframe tbody tr th:only-of-type {\n",
              "        vertical-align: middle;\n",
              "    }\n",
              "\n",
              "    .dataframe tbody tr th {\n",
              "        vertical-align: top;\n",
              "    }\n",
              "\n",
              "    .dataframe thead th {\n",
              "        text-align: right;\n",
              "    }\n",
              "</style>\n",
              "<table border=\"1\" class=\"dataframe\">\n",
              "  <thead>\n",
              "    <tr style=\"text-align: right;\">\n",
              "      <th></th>\n",
              "      <th>Title</th>\n",
              "      <th>Comment</th>\n",
              "      <th>code</th>\n",
              "      <th>58</th>\n",
              "      <th>16</th>\n",
              "      <th>29</th>\n",
              "      <th>32</th>\n",
              "      <th>34</th>\n",
              "      <th>57</th>\n",
              "      <th>54</th>\n",
              "      <th>39</th>\n",
              "      <th>53</th>\n",
              "      <th>0</th>\n",
              "      <th>63</th>\n",
              "      <th>49</th>\n",
              "      <th>62</th>\n",
              "      <th>37</th>\n",
              "      <th>56</th>\n",
              "      <th>55</th>\n",
              "      <th>36</th>\n",
              "      <th>46</th>\n",
              "      <th>27</th>\n",
              "      <th>59</th>\n",
              "      <th>70</th>\n",
              "      <th>30</th>\n",
              "      <th>40</th>\n",
              "      <th>43</th>\n",
              "      <th>76</th>\n",
              "      <th>38</th>\n",
              "      <th>50</th>\n",
              "      <th>77</th>\n",
              "      <th>64</th>\n",
              "      <th>10</th>\n",
              "      <th>21</th>\n",
              "      <th>44</th>\n",
              "      <th>73</th>\n",
              "      <th>25</th>\n",
              "      <th>61</th>\n",
              "      <th>35</th>\n",
              "      <th>89</th>\n",
              "      <th>41</th>\n",
              "      <th>33</th>\n",
              "      <th>71</th>\n",
              "      <th>75</th>\n",
              "      <th>1</th>\n",
              "    </tr>\n",
              "  </thead>\n",
              "  <tbody>\n",
              "    <tr>\n",
              "      <th>0</th>\n",
              "      <td>What have other people's experiences been wrt ...</td>\n",
              "      <td>Quick question. For people who have been on an...</td>\n",
              "      <td>58</td>\n",
              "      <td>1</td>\n",
              "      <td>0</td>\n",
              "      <td>0</td>\n",
              "      <td>0</td>\n",
              "      <td>0</td>\n",
              "      <td>0</td>\n",
              "      <td>0</td>\n",
              "      <td>0</td>\n",
              "      <td>0</td>\n",
              "      <td>0</td>\n",
              "      <td>0</td>\n",
              "      <td>0</td>\n",
              "      <td>0</td>\n",
              "      <td>0</td>\n",
              "      <td>0</td>\n",
              "      <td>0</td>\n",
              "      <td>0</td>\n",
              "      <td>0</td>\n",
              "      <td>0</td>\n",
              "      <td>0</td>\n",
              "      <td>0</td>\n",
              "      <td>0</td>\n",
              "      <td>0</td>\n",
              "      <td>0</td>\n",
              "      <td>0</td>\n",
              "      <td>0</td>\n",
              "      <td>0</td>\n",
              "      <td>0</td>\n",
              "      <td>0</td>\n",
              "      <td>0</td>\n",
              "      <td>0</td>\n",
              "      <td>0</td>\n",
              "      <td>0</td>\n",
              "      <td>0</td>\n",
              "      <td>0</td>\n",
              "      <td>0</td>\n",
              "      <td>0</td>\n",
              "      <td>0</td>\n",
              "      <td>0</td>\n",
              "      <td>0</td>\n",
              "      <td>0</td>\n",
              "      <td>0</td>\n",
              "    </tr>\n",
              "    <tr>\n",
              "      <th>1</th>\n",
              "      <td>Anxious when there's nothing to worry about; p...</td>\n",
              "      <td>This problem happens randomly and sometimes wh...</td>\n",
              "      <td>16</td>\n",
              "      <td>0</td>\n",
              "      <td>1</td>\n",
              "      <td>0</td>\n",
              "      <td>0</td>\n",
              "      <td>0</td>\n",
              "      <td>0</td>\n",
              "      <td>0</td>\n",
              "      <td>0</td>\n",
              "      <td>0</td>\n",
              "      <td>0</td>\n",
              "      <td>0</td>\n",
              "      <td>0</td>\n",
              "      <td>0</td>\n",
              "      <td>0</td>\n",
              "      <td>0</td>\n",
              "      <td>0</td>\n",
              "      <td>0</td>\n",
              "      <td>0</td>\n",
              "      <td>0</td>\n",
              "      <td>0</td>\n",
              "      <td>0</td>\n",
              "      <td>0</td>\n",
              "      <td>0</td>\n",
              "      <td>0</td>\n",
              "      <td>0</td>\n",
              "      <td>0</td>\n",
              "      <td>0</td>\n",
              "      <td>0</td>\n",
              "      <td>0</td>\n",
              "      <td>0</td>\n",
              "      <td>0</td>\n",
              "      <td>0</td>\n",
              "      <td>0</td>\n",
              "      <td>0</td>\n",
              "      <td>0</td>\n",
              "      <td>0</td>\n",
              "      <td>0</td>\n",
              "      <td>0</td>\n",
              "      <td>0</td>\n",
              "      <td>0</td>\n",
              "      <td>0</td>\n",
              "      <td>0</td>\n",
              "    </tr>\n",
              "    <tr>\n",
              "      <th>2</th>\n",
              "      <td>I am fighting against anything and everything ...</td>\n",
              "      <td>I am fighting against my own head\\n\\nI am figh...</td>\n",
              "      <td>29,32,34,57</td>\n",
              "      <td>0</td>\n",
              "      <td>0</td>\n",
              "      <td>1</td>\n",
              "      <td>1</td>\n",
              "      <td>1</td>\n",
              "      <td>1</td>\n",
              "      <td>0</td>\n",
              "      <td>0</td>\n",
              "      <td>0</td>\n",
              "      <td>0</td>\n",
              "      <td>0</td>\n",
              "      <td>0</td>\n",
              "      <td>0</td>\n",
              "      <td>0</td>\n",
              "      <td>0</td>\n",
              "      <td>0</td>\n",
              "      <td>0</td>\n",
              "      <td>0</td>\n",
              "      <td>0</td>\n",
              "      <td>0</td>\n",
              "      <td>0</td>\n",
              "      <td>0</td>\n",
              "      <td>0</td>\n",
              "      <td>0</td>\n",
              "      <td>0</td>\n",
              "      <td>0</td>\n",
              "      <td>0</td>\n",
              "      <td>0</td>\n",
              "      <td>0</td>\n",
              "      <td>0</td>\n",
              "      <td>0</td>\n",
              "      <td>0</td>\n",
              "      <td>0</td>\n",
              "      <td>0</td>\n",
              "      <td>0</td>\n",
              "      <td>0</td>\n",
              "      <td>0</td>\n",
              "      <td>0</td>\n",
              "      <td>0</td>\n",
              "      <td>0</td>\n",
              "      <td>0</td>\n",
              "      <td>0</td>\n",
              "    </tr>\n",
              "    <tr>\n",
              "      <th>3</th>\n",
              "      <td>DAE have overwhelming mood swings?</td>\n",
              "      <td>Allow me to elaborate: You're sitting at your ...</td>\n",
              "      <td>54</td>\n",
              "      <td>0</td>\n",
              "      <td>0</td>\n",
              "      <td>0</td>\n",
              "      <td>0</td>\n",
              "      <td>0</td>\n",
              "      <td>0</td>\n",
              "      <td>1</td>\n",
              "      <td>0</td>\n",
              "      <td>0</td>\n",
              "      <td>0</td>\n",
              "      <td>0</td>\n",
              "      <td>0</td>\n",
              "      <td>0</td>\n",
              "      <td>0</td>\n",
              "      <td>0</td>\n",
              "      <td>0</td>\n",
              "      <td>0</td>\n",
              "      <td>0</td>\n",
              "      <td>0</td>\n",
              "      <td>0</td>\n",
              "      <td>0</td>\n",
              "      <td>0</td>\n",
              "      <td>0</td>\n",
              "      <td>0</td>\n",
              "      <td>0</td>\n",
              "      <td>0</td>\n",
              "      <td>0</td>\n",
              "      <td>0</td>\n",
              "      <td>0</td>\n",
              "      <td>0</td>\n",
              "      <td>0</td>\n",
              "      <td>0</td>\n",
              "      <td>0</td>\n",
              "      <td>0</td>\n",
              "      <td>0</td>\n",
              "      <td>0</td>\n",
              "      <td>0</td>\n",
              "      <td>0</td>\n",
              "      <td>0</td>\n",
              "      <td>0</td>\n",
              "      <td>0</td>\n",
              "      <td>0</td>\n",
              "    </tr>\n",
              "    <tr>\n",
              "      <th>4</th>\n",
              "      <td>Am I just being paranoid?</td>\n",
              "      <td>I constantly worry and over think about many s...</td>\n",
              "      <td>39</td>\n",
              "      <td>0</td>\n",
              "      <td>0</td>\n",
              "      <td>0</td>\n",
              "      <td>0</td>\n",
              "      <td>0</td>\n",
              "      <td>0</td>\n",
              "      <td>0</td>\n",
              "      <td>1</td>\n",
              "      <td>0</td>\n",
              "      <td>0</td>\n",
              "      <td>0</td>\n",
              "      <td>0</td>\n",
              "      <td>0</td>\n",
              "      <td>0</td>\n",
              "      <td>0</td>\n",
              "      <td>0</td>\n",
              "      <td>0</td>\n",
              "      <td>0</td>\n",
              "      <td>0</td>\n",
              "      <td>0</td>\n",
              "      <td>0</td>\n",
              "      <td>0</td>\n",
              "      <td>0</td>\n",
              "      <td>0</td>\n",
              "      <td>0</td>\n",
              "      <td>0</td>\n",
              "      <td>0</td>\n",
              "      <td>0</td>\n",
              "      <td>0</td>\n",
              "      <td>0</td>\n",
              "      <td>0</td>\n",
              "      <td>0</td>\n",
              "      <td>0</td>\n",
              "      <td>0</td>\n",
              "      <td>0</td>\n",
              "      <td>0</td>\n",
              "      <td>0</td>\n",
              "      <td>0</td>\n",
              "      <td>0</td>\n",
              "      <td>0</td>\n",
              "      <td>0</td>\n",
              "      <td>0</td>\n",
              "    </tr>\n",
              "    <tr>\n",
              "      <th>...</th>\n",
              "      <td>...</td>\n",
              "      <td>...</td>\n",
              "      <td>...</td>\n",
              "      <td>...</td>\n",
              "      <td>...</td>\n",
              "      <td>...</td>\n",
              "      <td>...</td>\n",
              "      <td>...</td>\n",
              "      <td>...</td>\n",
              "      <td>...</td>\n",
              "      <td>...</td>\n",
              "      <td>...</td>\n",
              "      <td>...</td>\n",
              "      <td>...</td>\n",
              "      <td>...</td>\n",
              "      <td>...</td>\n",
              "      <td>...</td>\n",
              "      <td>...</td>\n",
              "      <td>...</td>\n",
              "      <td>...</td>\n",
              "      <td>...</td>\n",
              "      <td>...</td>\n",
              "      <td>...</td>\n",
              "      <td>...</td>\n",
              "      <td>...</td>\n",
              "      <td>...</td>\n",
              "      <td>...</td>\n",
              "      <td>...</td>\n",
              "      <td>...</td>\n",
              "      <td>...</td>\n",
              "      <td>...</td>\n",
              "      <td>...</td>\n",
              "      <td>...</td>\n",
              "      <td>...</td>\n",
              "      <td>...</td>\n",
              "      <td>...</td>\n",
              "      <td>...</td>\n",
              "      <td>...</td>\n",
              "      <td>...</td>\n",
              "      <td>...</td>\n",
              "      <td>...</td>\n",
              "      <td>...</td>\n",
              "      <td>...</td>\n",
              "      <td>...</td>\n",
              "      <td>...</td>\n",
              "    </tr>\n",
              "    <tr>\n",
              "      <th>246</th>\n",
              "      <td>TIL: Sitting still a lot = more anxiety</td>\n",
              "      <td>After coming home from a NYE party where I was...</td>\n",
              "      <td>62</td>\n",
              "      <td>0</td>\n",
              "      <td>0</td>\n",
              "      <td>0</td>\n",
              "      <td>0</td>\n",
              "      <td>0</td>\n",
              "      <td>0</td>\n",
              "      <td>0</td>\n",
              "      <td>0</td>\n",
              "      <td>0</td>\n",
              "      <td>0</td>\n",
              "      <td>0</td>\n",
              "      <td>0</td>\n",
              "      <td>1</td>\n",
              "      <td>0</td>\n",
              "      <td>0</td>\n",
              "      <td>0</td>\n",
              "      <td>0</td>\n",
              "      <td>0</td>\n",
              "      <td>0</td>\n",
              "      <td>0</td>\n",
              "      <td>0</td>\n",
              "      <td>0</td>\n",
              "      <td>0</td>\n",
              "      <td>0</td>\n",
              "      <td>0</td>\n",
              "      <td>0</td>\n",
              "      <td>0</td>\n",
              "      <td>0</td>\n",
              "      <td>0</td>\n",
              "      <td>0</td>\n",
              "      <td>0</td>\n",
              "      <td>0</td>\n",
              "      <td>0</td>\n",
              "      <td>0</td>\n",
              "      <td>0</td>\n",
              "      <td>0</td>\n",
              "      <td>0</td>\n",
              "      <td>0</td>\n",
              "      <td>0</td>\n",
              "      <td>0</td>\n",
              "      <td>0</td>\n",
              "      <td>0</td>\n",
              "    </tr>\n",
              "    <tr>\n",
              "      <th>247</th>\n",
              "      <td>Anxiety Reliefs?</td>\n",
              "      <td>I've been dealing with anxiety for years, and ...</td>\n",
              "      <td>63</td>\n",
              "      <td>0</td>\n",
              "      <td>0</td>\n",
              "      <td>0</td>\n",
              "      <td>0</td>\n",
              "      <td>0</td>\n",
              "      <td>0</td>\n",
              "      <td>0</td>\n",
              "      <td>0</td>\n",
              "      <td>0</td>\n",
              "      <td>0</td>\n",
              "      <td>1</td>\n",
              "      <td>0</td>\n",
              "      <td>0</td>\n",
              "      <td>0</td>\n",
              "      <td>0</td>\n",
              "      <td>0</td>\n",
              "      <td>0</td>\n",
              "      <td>0</td>\n",
              "      <td>0</td>\n",
              "      <td>0</td>\n",
              "      <td>0</td>\n",
              "      <td>0</td>\n",
              "      <td>0</td>\n",
              "      <td>0</td>\n",
              "      <td>0</td>\n",
              "      <td>0</td>\n",
              "      <td>0</td>\n",
              "      <td>0</td>\n",
              "      <td>0</td>\n",
              "      <td>0</td>\n",
              "      <td>0</td>\n",
              "      <td>0</td>\n",
              "      <td>0</td>\n",
              "      <td>0</td>\n",
              "      <td>0</td>\n",
              "      <td>0</td>\n",
              "      <td>0</td>\n",
              "      <td>0</td>\n",
              "      <td>0</td>\n",
              "      <td>0</td>\n",
              "      <td>0</td>\n",
              "      <td>0</td>\n",
              "    </tr>\n",
              "    <tr>\n",
              "      <th>248</th>\n",
              "      <td>Having A Little Breakdown</td>\n",
              "      <td>Hey guys,\\n\\nSo today is my birthday, I'm 29 a...</td>\n",
              "      <td>63</td>\n",
              "      <td>0</td>\n",
              "      <td>0</td>\n",
              "      <td>0</td>\n",
              "      <td>0</td>\n",
              "      <td>0</td>\n",
              "      <td>0</td>\n",
              "      <td>0</td>\n",
              "      <td>0</td>\n",
              "      <td>0</td>\n",
              "      <td>0</td>\n",
              "      <td>1</td>\n",
              "      <td>0</td>\n",
              "      <td>0</td>\n",
              "      <td>0</td>\n",
              "      <td>0</td>\n",
              "      <td>0</td>\n",
              "      <td>0</td>\n",
              "      <td>0</td>\n",
              "      <td>0</td>\n",
              "      <td>0</td>\n",
              "      <td>0</td>\n",
              "      <td>0</td>\n",
              "      <td>0</td>\n",
              "      <td>0</td>\n",
              "      <td>0</td>\n",
              "      <td>0</td>\n",
              "      <td>0</td>\n",
              "      <td>0</td>\n",
              "      <td>0</td>\n",
              "      <td>0</td>\n",
              "      <td>0</td>\n",
              "      <td>0</td>\n",
              "      <td>0</td>\n",
              "      <td>0</td>\n",
              "      <td>0</td>\n",
              "      <td>0</td>\n",
              "      <td>0</td>\n",
              "      <td>0</td>\n",
              "      <td>0</td>\n",
              "      <td>0</td>\n",
              "      <td>0</td>\n",
              "      <td>0</td>\n",
              "    </tr>\n",
              "    <tr>\n",
              "      <th>249</th>\n",
              "      <td>Are Meds worth it?</td>\n",
              "      <td>First of all, I'm so glad I found this communi...</td>\n",
              "      <td>0</td>\n",
              "      <td>0</td>\n",
              "      <td>0</td>\n",
              "      <td>0</td>\n",
              "      <td>0</td>\n",
              "      <td>0</td>\n",
              "      <td>0</td>\n",
              "      <td>0</td>\n",
              "      <td>0</td>\n",
              "      <td>0</td>\n",
              "      <td>1</td>\n",
              "      <td>0</td>\n",
              "      <td>0</td>\n",
              "      <td>0</td>\n",
              "      <td>0</td>\n",
              "      <td>0</td>\n",
              "      <td>0</td>\n",
              "      <td>0</td>\n",
              "      <td>0</td>\n",
              "      <td>0</td>\n",
              "      <td>0</td>\n",
              "      <td>0</td>\n",
              "      <td>0</td>\n",
              "      <td>0</td>\n",
              "      <td>0</td>\n",
              "      <td>0</td>\n",
              "      <td>0</td>\n",
              "      <td>0</td>\n",
              "      <td>0</td>\n",
              "      <td>0</td>\n",
              "      <td>0</td>\n",
              "      <td>0</td>\n",
              "      <td>0</td>\n",
              "      <td>0</td>\n",
              "      <td>0</td>\n",
              "      <td>0</td>\n",
              "      <td>0</td>\n",
              "      <td>0</td>\n",
              "      <td>0</td>\n",
              "      <td>0</td>\n",
              "      <td>0</td>\n",
              "      <td>0</td>\n",
              "      <td>0</td>\n",
              "    </tr>\n",
              "    <tr>\n",
              "      <th>250</th>\n",
              "      <td>Tips for self-sabotaging anxiety</td>\n",
              "      <td>Sometimes, I get in a rhythm while doing somet...</td>\n",
              "      <td>29</td>\n",
              "      <td>0</td>\n",
              "      <td>0</td>\n",
              "      <td>1</td>\n",
              "      <td>0</td>\n",
              "      <td>0</td>\n",
              "      <td>0</td>\n",
              "      <td>0</td>\n",
              "      <td>0</td>\n",
              "      <td>0</td>\n",
              "      <td>0</td>\n",
              "      <td>0</td>\n",
              "      <td>0</td>\n",
              "      <td>0</td>\n",
              "      <td>0</td>\n",
              "      <td>0</td>\n",
              "      <td>0</td>\n",
              "      <td>0</td>\n",
              "      <td>0</td>\n",
              "      <td>0</td>\n",
              "      <td>0</td>\n",
              "      <td>0</td>\n",
              "      <td>0</td>\n",
              "      <td>0</td>\n",
              "      <td>0</td>\n",
              "      <td>0</td>\n",
              "      <td>0</td>\n",
              "      <td>0</td>\n",
              "      <td>0</td>\n",
              "      <td>0</td>\n",
              "      <td>0</td>\n",
              "      <td>0</td>\n",
              "      <td>0</td>\n",
              "      <td>0</td>\n",
              "      <td>0</td>\n",
              "      <td>0</td>\n",
              "      <td>0</td>\n",
              "      <td>0</td>\n",
              "      <td>0</td>\n",
              "      <td>0</td>\n",
              "      <td>0</td>\n",
              "      <td>0</td>\n",
              "      <td>0</td>\n",
              "    </tr>\n",
              "  </tbody>\n",
              "</table>\n",
              "<p>249 rows × 45 columns</p>\n",
              "</div>"
            ],
            "text/plain": [
              "                                                 Title  ...  1\n",
              "0    What have other people's experiences been wrt ...  ...  0\n",
              "1    Anxious when there's nothing to worry about; p...  ...  0\n",
              "2    I am fighting against anything and everything ...  ...  0\n",
              "3                   DAE have overwhelming mood swings?  ...  0\n",
              "4                            Am I just being paranoid?  ...  0\n",
              "..                                                 ...  ... ..\n",
              "246            TIL: Sitting still a lot = more anxiety  ...  0\n",
              "247                                   Anxiety Reliefs?  ...  0\n",
              "248                          Having A Little Breakdown  ...  0\n",
              "249                                 Are Meds worth it?  ...  0\n",
              "250                   Tips for self-sabotaging anxiety  ...  0\n",
              "\n",
              "[249 rows x 45 columns]"
            ]
          },
          "metadata": {},
          "execution_count": 24
        }
      ]
    },
    {
      "cell_type": "code",
      "metadata": {
        "colab": {
          "base_uri": "https://localhost:8080/"
        },
        "id": "oHLOY-gZoRVN",
        "outputId": "4e529a8d-f5be-4188-b9f7-ba0a42de6836"
      },
      "source": [
        "df_row.isnull().any()"
      ],
      "execution_count": null,
      "outputs": [
        {
          "output_type": "execute_result",
          "data": {
            "text/plain": [
              "Title      False\n",
              "Comment    False\n",
              "code       False\n",
              "58         False\n",
              "16         False\n",
              "29         False\n",
              "32         False\n",
              "34         False\n",
              "57         False\n",
              "54         False\n",
              "39         False\n",
              "53         False\n",
              "0          False\n",
              "63         False\n",
              "49         False\n",
              "62         False\n",
              "37         False\n",
              "56         False\n",
              "55         False\n",
              "36         False\n",
              "46         False\n",
              "27         False\n",
              "59         False\n",
              "70         False\n",
              "30         False\n",
              "40         False\n",
              "43         False\n",
              "76         False\n",
              "38         False\n",
              "50         False\n",
              "77         False\n",
              "64         False\n",
              "10         False\n",
              "21         False\n",
              "44         False\n",
              "73         False\n",
              "25         False\n",
              "61         False\n",
              "35         False\n",
              "89         False\n",
              "41         False\n",
              "33         False\n",
              "71         False\n",
              "75         False\n",
              "1          False\n",
              "dtype: bool"
            ]
          },
          "metadata": {},
          "execution_count": 25
        }
      ]
    },
    {
      "cell_type": "code",
      "metadata": {
        "id": "MIdPj_FxWVQl"
      },
      "source": [
        ""
      ],
      "execution_count": null,
      "outputs": []
    },
    {
      "cell_type": "markdown",
      "metadata": {
        "id": "S2U4AzM8oT10"
      },
      "source": [
        "# Preprocessing "
      ]
    },
    {
      "cell_type": "code",
      "metadata": {
        "id": "V7USWqFroXqA"
      },
      "source": [
        "## for data\n",
        "import pandas as pd\n",
        "import collections\n",
        "import json\n",
        "## for plotting\n",
        "import matplotlib.pyplot as plt\n",
        "import seaborn as sns\n",
        "import wordcloud\n",
        "## for text processing\n",
        "import re\n",
        "import nltk\n",
        "## for language detection\n",
        "import langdetect \n",
        "## for sentiment\n",
        "from textblob import TextBlob\n",
        "## for ner\n",
        "import spacy\n",
        "## for vectorizer\n",
        "from sklearn import feature_extraction, manifold\n",
        "## for word embedding\n",
        "import gensim.downloader as gensim_api\n",
        "## for topic modeling\n",
        "import gensim\n",
        "\n",
        "from bs4 import BeautifulSoup"
      ],
      "execution_count": null,
      "outputs": []
    },
    {
      "cell_type": "code",
      "metadata": {
        "id": "tBoCGut7oapD"
      },
      "source": [
        "df_row[\"post\"] = df_row[\"Title\"] + \" \"+df_row[\"Comment\"] "
      ],
      "execution_count": null,
      "outputs": []
    },
    {
      "cell_type": "code",
      "metadata": {
        "colab": {
          "base_uri": "https://localhost:8080/"
        },
        "id": "cV59fxYUodI4",
        "outputId": "08461ab1-a054-473b-fb33-dd10d74f65b2"
      },
      "source": [
        "df_row[\"post\"].head(1)"
      ],
      "execution_count": null,
      "outputs": [
        {
          "output_type": "execute_result",
          "data": {
            "text/plain": [
              "0    What have other people's experiences been wrt ...\n",
              "Name: post, dtype: object"
            ]
          },
          "metadata": {},
          "execution_count": 28
        }
      ]
    },
    {
      "cell_type": "code",
      "metadata": {
        "id": "p5aVosgbogC1"
      },
      "source": [
        "# function to remove HTML tags\n",
        "def remove_html_tags(text):\n",
        "    return BeautifulSoup(text, 'html.parser').get_text()"
      ],
      "execution_count": null,
      "outputs": []
    },
    {
      "cell_type": "code",
      "metadata": {
        "id": "ZU5-rWEXoo0F"
      },
      "source": [
        "df_row[\"removehtml\"] = df_row[\"post\"].apply(remove_html_tags)"
      ],
      "execution_count": null,
      "outputs": []
    },
    {
      "cell_type": "code",
      "metadata": {
        "colab": {
          "base_uri": "https://localhost:8080/"
        },
        "id": "xArt49ebos2w",
        "outputId": "a6a44927-604a-42a7-c99e-1fd1b6496103"
      },
      "source": [
        "print(df_row[\"removehtml\"].head(1))"
      ],
      "execution_count": null,
      "outputs": [
        {
          "output_type": "stream",
          "name": "stdout",
          "text": [
            "0    What have other people's experiences been wrt ...\n",
            "Name: removehtml, dtype: object\n"
          ]
        }
      ]
    },
    {
      "cell_type": "code",
      "metadata": {
        "id": "uyUXQMfHot2L"
      },
      "source": [
        "pd.options.display.max_colwidth = 100"
      ],
      "execution_count": null,
      "outputs": []
    },
    {
      "cell_type": "code",
      "metadata": {
        "id": "iXSpSJ5ho06j"
      },
      "source": [
        "# imports\n",
        "import unicodedata\n",
        "# function to remove accented characters\n",
        "def remove_accented_chars(text):\n",
        "    new_text = unicodedata.normalize('NFKD', text).encode('ascii', 'ignore').decode('utf-8', 'ignore')\n",
        "    return new_text"
      ],
      "execution_count": null,
      "outputs": []
    },
    {
      "cell_type": "code",
      "metadata": {
        "id": "CGx7ZynZo15U"
      },
      "source": [
        "df_row[\"remove_accented_chars\"] = df_row[\"removehtml\"].apply(remove_accented_chars)"
      ],
      "execution_count": null,
      "outputs": []
    },
    {
      "cell_type": "code",
      "metadata": {
        "colab": {
          "base_uri": "https://localhost:8080/"
        },
        "id": "8adWaq_2pAM_",
        "outputId": "557a320c-0dbf-44e3-c8f4-d8ffa4bddbf2"
      },
      "source": [
        "print(df_row[\"remove_accented_chars\"].head(1) )"
      ],
      "execution_count": null,
      "outputs": [
        {
          "output_type": "stream",
          "name": "stdout",
          "text": [
            "0    What have other people's experiences been wrt increasing medication dosage? Quick question. For ...\n",
            "Name: remove_accented_chars, dtype: object\n"
          ]
        }
      ]
    },
    {
      "cell_type": "markdown",
      "metadata": {
        "id": "8t292tCCpFu6"
      },
      "source": [
        "Expanding Contractions"
      ]
    },
    {
      "cell_type": "code",
      "metadata": {
        "id": "KyAPx4INpDAL"
      },
      "source": [
        "# imports\n",
        "import contractions\n",
        "import re \n",
        "# function to expand contractions\n",
        "def expand_contractions(text):\n",
        "    new_text = contractions.fix(text)\n",
        "    return new_text\n",
        "# call function "
      ],
      "execution_count": null,
      "outputs": []
    },
    {
      "cell_type": "code",
      "metadata": {
        "id": "IHGvQN3OpSBr"
      },
      "source": [
        "df_row[\"expand_contractions\"] = df_row[\"remove_accented_chars\"].apply(expand_contractions)"
      ],
      "execution_count": null,
      "outputs": []
    },
    {
      "cell_type": "code",
      "metadata": {
        "colab": {
          "base_uri": "https://localhost:8080/"
        },
        "id": "VAbGXbRDpUBW",
        "outputId": "79ce03dd-8e9f-4883-97f8-f89d21063d53"
      },
      "source": [
        "print(df_row[\"expand_contractions\"].head(1))"
      ],
      "execution_count": null,
      "outputs": [
        {
          "output_type": "stream",
          "name": "stdout",
          "text": [
            "0    What have other people's experiences been wrt increasing medication dosage? Quick question. For ...\n",
            "Name: expand_contractions, dtype: object\n"
          ]
        }
      ]
    },
    {
      "cell_type": "markdown",
      "metadata": {
        "id": "EZQ4XhxWpVel"
      },
      "source": [
        "Removing Special characters"
      ]
    },
    {
      "cell_type": "code",
      "metadata": {
        "id": "LKtHj1pcpalH"
      },
      "source": [
        "import re\n",
        "# function to remove special characters\n",
        "def remove_special_characters(text):\n",
        "    # define the pattern to keep\n",
        "    pat = r'[^a-zA-z0-9.,!?/:;\\\"\\'\\s]' \n",
        "    return re.sub(pat, '', text)"
      ],
      "execution_count": null,
      "outputs": []
    },
    {
      "cell_type": "code",
      "metadata": {
        "id": "HhH1CeUIpfAU"
      },
      "source": [
        "df_row[\"remove_special_characters\"] = df_row[\"expand_contractions\"].apply(remove_special_characters)"
      ],
      "execution_count": null,
      "outputs": []
    },
    {
      "cell_type": "code",
      "metadata": {
        "colab": {
          "base_uri": "https://localhost:8080/"
        },
        "id": "Y15ZDOzTphJh",
        "outputId": "2e65166e-4714-4f1f-b48e-7a4816b27a3e"
      },
      "source": [
        "print(df_row[\"remove_special_characters\"].head(1))"
      ],
      "execution_count": null,
      "outputs": [
        {
          "output_type": "stream",
          "name": "stdout",
          "text": [
            "0    What have other people's experiences been wrt increasing medication dosage? Quick question. For ...\n",
            "Name: remove_special_characters, dtype: object\n"
          ]
        }
      ]
    },
    {
      "cell_type": "markdown",
      "metadata": {
        "id": "l6j25woypjgE"
      },
      "source": [
        "Removing Numbers"
      ]
    },
    {
      "cell_type": "code",
      "metadata": {
        "id": "J1LtswympmlK"
      },
      "source": [
        "import re\n",
        "# function to remove numbers\n",
        "def remove_numbers(text):\n",
        "    # define the pattern to keep\n",
        "    pattern = r'[^a-zA-z.,!?/:;\\\"\\'\\s]' \n",
        "    return re.sub(pattern, '', text)"
      ],
      "execution_count": null,
      "outputs": []
    },
    {
      "cell_type": "code",
      "metadata": {
        "id": "9yepO3YTpp_S"
      },
      "source": [
        "df_row[\"remove_numbers\"] = df_row[\"remove_special_characters\"].apply(remove_numbers)"
      ],
      "execution_count": null,
      "outputs": []
    },
    {
      "cell_type": "code",
      "metadata": {
        "colab": {
          "base_uri": "https://localhost:8080/"
        },
        "id": "OxPkOxMWpsvT",
        "outputId": "6f5c8275-a74e-4ea9-98bc-5a21b42abfc0"
      },
      "source": [
        "print(df_row[\"remove_numbers\"].head(1))"
      ],
      "execution_count": null,
      "outputs": [
        {
          "output_type": "stream",
          "name": "stdout",
          "text": [
            "0    What have other people's experiences been wrt increasing medication dosage? Quick question. For ...\n",
            "Name: remove_numbers, dtype: object\n"
          ]
        }
      ]
    },
    {
      "cell_type": "markdown",
      "metadata": {
        "id": "Ga7cESFbp2jM"
      },
      "source": [
        "Spelling correction"
      ]
    },
    {
      "cell_type": "code",
      "metadata": {
        "id": "BSrzANPJp5NA"
      },
      "source": [
        "from textblob import TextBlob\n",
        "# df['text_rare'].apply(lambda x: str(TextBlob(x).correct()))\n",
        "\n",
        "df_row[\"correctiontext\"] = df_row[\"remove_numbers\"].apply(lambda x: str(TextBlob(x).correct()))"
      ],
      "execution_count": null,
      "outputs": []
    },
    {
      "cell_type": "code",
      "metadata": {
        "colab": {
          "base_uri": "https://localhost:8080/"
        },
        "id": "zmeLdPldp9tV",
        "outputId": "2d190a62-011f-4171-df69-5d90f7fb97e3"
      },
      "source": [
        "print(df_row[\"correctiontext\"].head(1))"
      ],
      "execution_count": null,
      "outputs": [
        {
          "output_type": "stream",
          "name": "stdout",
          "text": [
            "0    That have other people's experiences been wet increasing meditation dosage? Quick question. For ...\n",
            "Name: correctiontext, dtype: object\n"
          ]
        }
      ]
    },
    {
      "cell_type": "markdown",
      "metadata": {
        "id": "Ho7rM4S1pv3H"
      },
      "source": [
        "Removing URLs"
      ]
    },
    {
      "cell_type": "code",
      "metadata": {
        "colab": {
          "base_uri": "https://localhost:8080/",
          "height": 35
        },
        "id": "Rb4Axy1xpyg6",
        "outputId": "7b01b1c9-0ec6-465d-c04a-f2d332b701da"
      },
      "source": [
        "# Function for url's\n",
        "def remove_urls(text):\n",
        "    url_pattern = re.compile(r'https?://\\S+|www\\.\\S+')\n",
        "    return url_pattern.sub(r'', text)\n",
        "# Examples\n",
        "text = \"This is my website, https://www.abc.com\"\n",
        "remove_urls(text)\n",
        "#Passing the function to 'text_rare'\n",
        " #df['text_rare'] = df['text_rare'].apply(remove_urls)"
      ],
      "execution_count": null,
      "outputs": [
        {
          "output_type": "execute_result",
          "data": {
            "application/vnd.google.colaboratory.intrinsic+json": {
              "type": "string"
            },
            "text/plain": [
              "'This is my website, '"
            ]
          },
          "metadata": {},
          "execution_count": 47
        }
      ]
    },
    {
      "cell_type": "code",
      "metadata": {
        "colab": {
          "base_uri": "https://localhost:8080/"
        },
        "id": "9Wc7mDCwqUvi",
        "outputId": "01c5bdd6-6b2f-4891-8916-75696f9b8588"
      },
      "source": [
        "df_row[\"remove_urls\"] = df_row[\"correctiontext\"].apply(remove_urls)\n",
        "print(df_row[\"remove_urls\"].head(1))"
      ],
      "execution_count": null,
      "outputs": [
        {
          "output_type": "stream",
          "name": "stdout",
          "text": [
            "0    That have other people's experiences been wet increasing meditation dosage? Quick question. For ...\n",
            "Name: remove_urls, dtype: object\n"
          ]
        }
      ]
    },
    {
      "cell_type": "markdown",
      "metadata": {
        "id": "wHUjIsQbqah4"
      },
      "source": [
        "Lemmatisation"
      ]
    },
    {
      "cell_type": "code",
      "metadata": {
        "colab": {
          "base_uri": "https://localhost:8080/"
        },
        "id": "Etwb-tmyy2sr",
        "outputId": "6117ad45-321e-4248-e7d3-1d40bc8c85e6"
      },
      "source": [
        "import nltk\n",
        "nltk.download('wordnet')\n",
        "nltk.download('punkt')"
      ],
      "execution_count": null,
      "outputs": [
        {
          "output_type": "stream",
          "name": "stdout",
          "text": [
            "[nltk_data] Downloading package wordnet to /root/nltk_data...\n",
            "[nltk_data]   Package wordnet is already up-to-date!\n",
            "[nltk_data] Downloading package punkt to /root/nltk_data...\n",
            "[nltk_data]   Package punkt is already up-to-date!\n"
          ]
        },
        {
          "output_type": "execute_result",
          "data": {
            "text/plain": [
              "True"
            ]
          },
          "metadata": {},
          "execution_count": 49
        }
      ]
    },
    {
      "cell_type": "code",
      "metadata": {
        "id": "kdLGUv9kywpa"
      },
      "source": [
        "import nltk\n",
        "\n",
        "\n",
        "\n",
        "def lemmatize_text(text):\n",
        "    lst_txt = text.split()\n",
        "    lem = nltk.stem.wordnet.WordNetLemmatizer()\n",
        "    lst_txt = [lem.lemmatize(word,pos=\"v\") for word in lst_txt]\n",
        "    txt = \" \".join(lst_txt)\n",
        "    return txt"
      ],
      "execution_count": null,
      "outputs": []
    },
    {
      "cell_type": "code",
      "metadata": {
        "colab": {
          "base_uri": "https://localhost:8080/"
        },
        "id": "_GOjoUvizEOV",
        "outputId": "fb8e8995-9f3d-45be-eaef-066a0df6e09e"
      },
      "source": [
        "from nltk.stem import WordNetLemmatizer\n",
        "wordnet_lemmatizer = WordNetLemmatizer()\n",
        "\n",
        "sentence = \"He was running and eating at same time. He has bad habit of swimming after playing long hours in the Sun.\"\n",
        "punctuations=\"?:!.,;\"\n",
        "sentence_words = nltk.word_tokenize(sentence)\n",
        "for word in sentence_words:\n",
        "    if word in punctuations:\n",
        "        sentence_words.remove(word)\n",
        "\n",
        "sentence_words\n",
        "print(\"{0:20}{1:20}\".format(\"Word\",\"Lemma\"))\n",
        "for word in sentence_words:\n",
        "    print (\"{0:20}{1:20}\".format(word,wordnet_lemmatizer.lemmatize(word,pos=\"v\")))"
      ],
      "execution_count": null,
      "outputs": [
        {
          "output_type": "stream",
          "name": "stdout",
          "text": [
            "Word                Lemma               \n",
            "He                  He                  \n",
            "was                 be                  \n",
            "running             run                 \n",
            "and                 and                 \n",
            "eating              eat                 \n",
            "at                  at                  \n",
            "same                same                \n",
            "time                time                \n",
            "He                  He                  \n",
            "has                 have                \n",
            "bad                 bad                 \n",
            "habit               habit               \n",
            "of                  of                  \n",
            "swimming            swim                \n",
            "after               after               \n",
            "playing             play                \n",
            "long                long                \n",
            "hours               hours               \n",
            "in                  in                  \n",
            "the                 the                 \n",
            "Sun                 Sun                 \n"
          ]
        }
      ]
    },
    {
      "cell_type": "code",
      "metadata": {
        "colab": {
          "base_uri": "https://localhost:8080/"
        },
        "id": "SwZwTcNpzHNV",
        "outputId": "70b2fcbd-c573-4742-f3e4-8e25171d9ffd"
      },
      "source": [
        "for word in sentence_words:\n",
        "    print (\"{0:20}{1:20}\".format(word,wordnet_lemmatizer.lemmatize(word, pos=\"v\")))"
      ],
      "execution_count": null,
      "outputs": [
        {
          "output_type": "stream",
          "name": "stdout",
          "text": [
            "He                  He                  \n",
            "was                 be                  \n",
            "running             run                 \n",
            "and                 and                 \n",
            "eating              eat                 \n",
            "at                  at                  \n",
            "same                same                \n",
            "time                time                \n",
            "He                  He                  \n",
            "has                 have                \n",
            "bad                 bad                 \n",
            "habit               habit               \n",
            "of                  of                  \n",
            "swimming            swim                \n",
            "after               after               \n",
            "playing             play                \n",
            "long                long                \n",
            "hours               hours               \n",
            "in                  in                  \n",
            "the                 the                 \n",
            "Sun                 Sun                 \n"
          ]
        }
      ]
    },
    {
      "cell_type": "code",
      "metadata": {
        "id": "gnNHVZ-YzJo5"
      },
      "source": [
        " df_row[\"get_lem\"] = df_row[\"remove_urls\"].apply(lemmatize_text)"
      ],
      "execution_count": null,
      "outputs": []
    },
    {
      "cell_type": "code",
      "metadata": {
        "colab": {
          "base_uri": "https://localhost:8080/"
        },
        "id": "bSJqpPGczLbP",
        "outputId": "73b61e15-a348-469a-b39b-da0c7f0f204d"
      },
      "source": [
        "print( df_row[\"get_lem\"].head(1))"
      ],
      "execution_count": null,
      "outputs": [
        {
          "output_type": "stream",
          "name": "stdout",
          "text": [
            "0    That have other people's experience be wet increase meditation dosage? Quick question. For peopl...\n",
            "Name: get_lem, dtype: object\n"
          ]
        }
      ]
    },
    {
      "cell_type": "markdown",
      "metadata": {
        "id": "7pmulhmozOm2"
      },
      "source": [
        "Removing White spaces "
      ]
    },
    {
      "cell_type": "code",
      "metadata": {
        "id": "NQCm-6SGzSHg"
      },
      "source": [
        "# imports\n",
        "import re\n",
        "# function to remove special characters\n",
        "def remove_extra_whitespace_tabs(text):\n",
        "    #pattern = r'^\\s+$|\\s+$'\n",
        "    pattern = r'^\\s*|\\s\\s*'\n",
        "    return re.sub(pattern, ' ', text).strip()\n"
      ],
      "execution_count": null,
      "outputs": []
    },
    {
      "cell_type": "code",
      "metadata": {
        "id": "opgDsvBHzWQ0"
      },
      "source": [
        "df_row[\"removewhitespace_tabs\"] = df_row[\"get_lem\"].apply(remove_extra_whitespace_tabs)"
      ],
      "execution_count": null,
      "outputs": []
    },
    {
      "cell_type": "code",
      "metadata": {
        "colab": {
          "base_uri": "https://localhost:8080/"
        },
        "id": "wkpCngB9zYup",
        "outputId": "e499db33-5e4c-4ab4-a8af-0bf20f251061"
      },
      "source": [
        "print(df_row[\"removewhitespace_tabs\"].head(1))"
      ],
      "execution_count": null,
      "outputs": [
        {
          "output_type": "stream",
          "name": "stdout",
          "text": [
            "0    That have other people's experience be wet increase meditation dosage? Quick question. For peopl...\n",
            "Name: removewhitespace_tabs, dtype: object\n"
          ]
        }
      ]
    },
    {
      "cell_type": "markdown",
      "metadata": {
        "id": "E9ZFSkgmzaGz"
      },
      "source": [
        "# Lowercase\n",
        "Changing case to lower can be achieved by using lower function."
      ]
    },
    {
      "cell_type": "code",
      "metadata": {
        "id": "_0S8W81Vzc6R"
      },
      "source": [
        "# function to remove special characters\n",
        "def to_lowercase(text):\n",
        "    return text.lower()"
      ],
      "execution_count": null,
      "outputs": []
    },
    {
      "cell_type": "code",
      "metadata": {
        "id": "ShkPip84zhCx"
      },
      "source": [
        "df_row[\"to_lowercase\"] = df_row[\"removewhitespace_tabs\"].apply(to_lowercase)"
      ],
      "execution_count": null,
      "outputs": []
    },
    {
      "cell_type": "code",
      "metadata": {
        "colab": {
          "base_uri": "https://localhost:8080/"
        },
        "id": "y5HKQweYzjJ3",
        "outputId": "f84e0133-0120-4000-a7e3-9586c1296668"
      },
      "source": [
        "print(df_row[\"to_lowercase\"].head(1))"
      ],
      "execution_count": null,
      "outputs": [
        {
          "output_type": "stream",
          "name": "stdout",
          "text": [
            "0    that have other people's experience be wet increase meditation dosage? quick question. for peopl...\n",
            "Name: to_lowercase, dtype: object\n"
          ]
        }
      ]
    },
    {
      "cell_type": "code",
      "metadata": {
        "colab": {
          "base_uri": "https://localhost:8080/"
        },
        "id": "GdrQOuakzlmD",
        "outputId": "bfcc9ef5-b035-474f-9f1d-9eafd099292c"
      },
      "source": [
        "nltk.download('stopwords')\n",
        "import nltk\n"
      ],
      "execution_count": null,
      "outputs": [
        {
          "output_type": "stream",
          "name": "stdout",
          "text": [
            "[nltk_data] Downloading package stopwords to /root/nltk_data...\n",
            "[nltk_data]   Package stopwords is already up-to-date!\n"
          ]
        }
      ]
    },
    {
      "cell_type": "code",
      "metadata": {
        "id": "jKI4Osbozmha"
      },
      "source": [
        "\n",
        "\n",
        "stopwords = nltk.corpus.stopwords.words('english')\n",
        "stopwords.append('anxiety')\n",
        "STOPWORDS = set(stopwords)\n",
        "\n"
      ],
      "execution_count": null,
      "outputs": []
    },
    {
      "cell_type": "code",
      "metadata": {
        "colab": {
          "base_uri": "https://localhost:8080/"
        },
        "id": "-c15qrF9zqo5",
        "outputId": "0078db77-47d5-48b2-9452-861e7a8fd783"
      },
      "source": [
        "STOPWORDS"
      ],
      "execution_count": null,
      "outputs": [
        {
          "output_type": "execute_result",
          "data": {
            "text/plain": [
              "{'a',\n",
              " 'about',\n",
              " 'above',\n",
              " 'after',\n",
              " 'again',\n",
              " 'against',\n",
              " 'ain',\n",
              " 'all',\n",
              " 'am',\n",
              " 'an',\n",
              " 'and',\n",
              " 'anxiety',\n",
              " 'any',\n",
              " 'are',\n",
              " 'aren',\n",
              " \"aren't\",\n",
              " 'as',\n",
              " 'at',\n",
              " 'be',\n",
              " 'because',\n",
              " 'been',\n",
              " 'before',\n",
              " 'being',\n",
              " 'below',\n",
              " 'between',\n",
              " 'both',\n",
              " 'but',\n",
              " 'by',\n",
              " 'can',\n",
              " 'couldn',\n",
              " \"couldn't\",\n",
              " 'd',\n",
              " 'did',\n",
              " 'didn',\n",
              " \"didn't\",\n",
              " 'do',\n",
              " 'does',\n",
              " 'doesn',\n",
              " \"doesn't\",\n",
              " 'doing',\n",
              " 'don',\n",
              " \"don't\",\n",
              " 'down',\n",
              " 'during',\n",
              " 'each',\n",
              " 'few',\n",
              " 'for',\n",
              " 'from',\n",
              " 'further',\n",
              " 'had',\n",
              " 'hadn',\n",
              " \"hadn't\",\n",
              " 'has',\n",
              " 'hasn',\n",
              " \"hasn't\",\n",
              " 'have',\n",
              " 'haven',\n",
              " \"haven't\",\n",
              " 'having',\n",
              " 'he',\n",
              " 'her',\n",
              " 'here',\n",
              " 'hers',\n",
              " 'herself',\n",
              " 'him',\n",
              " 'himself',\n",
              " 'his',\n",
              " 'how',\n",
              " 'i',\n",
              " 'if',\n",
              " 'in',\n",
              " 'into',\n",
              " 'is',\n",
              " 'isn',\n",
              " \"isn't\",\n",
              " 'it',\n",
              " \"it's\",\n",
              " 'its',\n",
              " 'itself',\n",
              " 'just',\n",
              " 'll',\n",
              " 'm',\n",
              " 'ma',\n",
              " 'me',\n",
              " 'mightn',\n",
              " \"mightn't\",\n",
              " 'more',\n",
              " 'most',\n",
              " 'mustn',\n",
              " \"mustn't\",\n",
              " 'my',\n",
              " 'myself',\n",
              " 'needn',\n",
              " \"needn't\",\n",
              " 'no',\n",
              " 'nor',\n",
              " 'not',\n",
              " 'now',\n",
              " 'o',\n",
              " 'of',\n",
              " 'off',\n",
              " 'on',\n",
              " 'once',\n",
              " 'only',\n",
              " 'or',\n",
              " 'other',\n",
              " 'our',\n",
              " 'ours',\n",
              " 'ourselves',\n",
              " 'out',\n",
              " 'over',\n",
              " 'own',\n",
              " 're',\n",
              " 's',\n",
              " 'same',\n",
              " 'shan',\n",
              " \"shan't\",\n",
              " 'she',\n",
              " \"she's\",\n",
              " 'should',\n",
              " \"should've\",\n",
              " 'shouldn',\n",
              " \"shouldn't\",\n",
              " 'so',\n",
              " 'some',\n",
              " 'such',\n",
              " 't',\n",
              " 'than',\n",
              " 'that',\n",
              " \"that'll\",\n",
              " 'the',\n",
              " 'their',\n",
              " 'theirs',\n",
              " 'them',\n",
              " 'themselves',\n",
              " 'then',\n",
              " 'there',\n",
              " 'these',\n",
              " 'they',\n",
              " 'this',\n",
              " 'those',\n",
              " 'through',\n",
              " 'to',\n",
              " 'too',\n",
              " 'under',\n",
              " 'until',\n",
              " 'up',\n",
              " 've',\n",
              " 'very',\n",
              " 'was',\n",
              " 'wasn',\n",
              " \"wasn't\",\n",
              " 'we',\n",
              " 'were',\n",
              " 'weren',\n",
              " \"weren't\",\n",
              " 'what',\n",
              " 'when',\n",
              " 'where',\n",
              " 'which',\n",
              " 'while',\n",
              " 'who',\n",
              " 'whom',\n",
              " 'why',\n",
              " 'will',\n",
              " 'with',\n",
              " 'won',\n",
              " \"won't\",\n",
              " 'wouldn',\n",
              " \"wouldn't\",\n",
              " 'y',\n",
              " 'you',\n",
              " \"you'd\",\n",
              " \"you'll\",\n",
              " \"you're\",\n",
              " \"you've\",\n",
              " 'your',\n",
              " 'yours',\n",
              " 'yourself',\n",
              " 'yourselves'}"
            ]
          },
          "metadata": {},
          "execution_count": 63
        }
      ]
    },
    {
      "cell_type": "code",
      "metadata": {
        "id": "p0eZAjVLztih"
      },
      "source": [
        "# Function to remove the stopwords\n",
        "def stopwords(text):\n",
        "    return \" \".join([word for word in str(text).split() if word not in STOPWORDS])"
      ],
      "execution_count": null,
      "outputs": []
    },
    {
      "cell_type": "code",
      "metadata": {
        "id": "7NhF9kojzv0_"
      },
      "source": [
        "# Applying the stopwords to 'text_punct' and store into 'text_stop'\n",
        "df_row[\"text_stop\"] = df_row[\"to_lowercase\"].apply(stopwords)\n"
      ],
      "execution_count": null,
      "outputs": []
    },
    {
      "cell_type": "markdown",
      "metadata": {
        "id": "tMdF37zazx9C"
      },
      "source": [
        "Avoiding Negative Words "
      ]
    },
    {
      "cell_type": "code",
      "metadata": {
        "colab": {
          "base_uri": "https://localhost:8080/"
        },
        "id": "HLDql04Az1LR",
        "outputId": "ada75a5e-4760-4526-9b05-768b1633217f"
      },
      "source": [
        "STOPWORDSx2 = STOPWORDS \n",
        "print(STOPWORDSx2)"
      ],
      "execution_count": null,
      "outputs": [
        {
          "output_type": "stream",
          "name": "stdout",
          "text": [
            "{'who', 'themselves', 'doesn', 'which', 'your', 'where', 'few', 'but', 'be', 'does', 'wouldn', \"hadn't\", \"hasn't\", 'other', 'anxiety', 'is', 'in', 'its', 'of', \"should've\", 'me', 'shouldn', 'won', 'his', 'haven', 'off', \"didn't\", 'below', \"mightn't\", 'ma', 'once', 'such', 'him', 'my', 'was', 'm', 'weren', 'yours', \"she's\", \"couldn't\", \"you're\", 'ain', 'were', 'needn', 'ours', 'while', 'just', 'down', \"won't\", 'should', 'all', 'd', 'been', 'why', 'are', 'theirs', 'that', 'and', 'them', 'for', 'i', \"aren't\", 'after', 'you', 'before', 'did', 'same', 'don', \"shouldn't\", 'during', 'yourself', 'too', 'hers', 'has', 'between', 'with', 'those', 'any', \"wasn't\", 'her', 'nor', 'then', 'at', 'until', 'what', \"it's\", \"you'd\", \"don't\", 'each', 'doing', 'have', 'an', \"isn't\", 'it', 'so', 'as', 'by', \"haven't\", 't', 're', 'himself', 'itself', 'wasn', 'further', 'hasn', 'whom', 'had', 'we', \"needn't\", \"you'll\", 'out', 'again', \"shan't\", 'more', 'no', \"wouldn't\", 'aren', 'having', 'here', 'being', 've', 'up', \"that'll\", 'the', 'how', 'only', \"doesn't\", 'if', 'they', 'a', 'mightn', 'can', 'through', 'into', 'mustn', 'some', 'shan', 'their', 'she', 'over', 'than', 'couldn', 'do', \"mustn't\", 'hadn', 'or', 'on', 'these', 'o', 'yourselves', 'to', 'now', 'didn', 'about', 'not', 'under', 'll', \"weren't\", 'very', 'against', 'herself', 'y', 'from', 'our', 'isn', 'ourselves', 'this', 'most', 'he', 'there', 's', 'myself', 'am', 'above', 'because', 'when', 'both', 'will', \"you've\", 'own'}\n"
          ]
        }
      ]
    },
    {
      "cell_type": "code",
      "metadata": {
        "id": "vMcJJMoZz5DV"
      },
      "source": [
        "arr=['not','mightn', \"mightn't\", 'mustn', \"mustn't\", 'needn', \"needn't\", 'shan', \"shan't\", 'shouldn', \"shouldn't\", 'wasn', \"wasn't\", 'weren', \n",
        "\"weren't\", 'won', \"won't\", 'wouldn', \"wouldn't\",'aren', \"aren't\", 'couldn', \"couldn't\", 'didn', \"didn't\", 'doesn', \"doesn't\", 'hadn', \"hadn't\", 'hasn', \"hasn't\", 'haven', \"haven't\", 'isn', \"isn't\",'no',\n",
        " 'nor']\n",
        "\n",
        "for data in arr:\n",
        "  STOPWORDSx2.remove(data)"
      ],
      "execution_count": null,
      "outputs": []
    },
    {
      "cell_type": "code",
      "metadata": {
        "id": "xXHXcXmVz64_"
      },
      "source": [
        "# Function to remove the stopwords\n",
        "def stopwords2(text):\n",
        "    return \" \".join([word for word in str(text).split() if word not in STOPWORDSx2])"
      ],
      "execution_count": null,
      "outputs": []
    },
    {
      "cell_type": "code",
      "metadata": {
        "colab": {
          "base_uri": "https://localhost:8080/"
        },
        "id": "Y6fIEI1Az84X",
        "outputId": "9e815b4d-e76f-4d73-f1ec-40c02e1675f0"
      },
      "source": [
        "# Applying the stopwords to 'text_punct' and store into 'text_stop'\n",
        "df_row[\"text_stopnoNegative\"] = df_row[\"to_lowercase\"].apply(stopwords2)\n",
        "df_row[\"text_stopnoNegative\"].head(1)"
      ],
      "execution_count": null,
      "outputs": [
        {
          "output_type": "execute_result",
          "data": {
            "text/plain": [
              "0    people's experience wet increase meditation dosage? quick question. people antidepressant help o...\n",
              "Name: text_stopnoNegative, dtype: object"
            ]
          },
          "metadata": {},
          "execution_count": 69
        }
      ]
    },
    {
      "cell_type": "code",
      "metadata": {
        "colab": {
          "base_uri": "https://localhost:8080/"
        },
        "id": "ERfkUC5t0IuP",
        "outputId": "aa4cc91a-fa76-4900-d60c-c63ad78d35c1"
      },
      "source": [
        "print(df_row[\"text_stopnoNegative\"].head(1))"
      ],
      "execution_count": null,
      "outputs": [
        {
          "output_type": "stream",
          "name": "stdout",
          "text": [
            "0    people's experience wet increase meditation dosage? quick question. people antidepressant help o...\n",
            "Name: text_stopnoNegative, dtype: object\n"
          ]
        }
      ]
    },
    {
      "cell_type": "markdown",
      "metadata": {
        "id": "gT_C76tB0Or8"
      },
      "source": [
        "Removing Punctuations "
      ]
    },
    {
      "cell_type": "code",
      "metadata": {
        "colab": {
          "base_uri": "https://localhost:8080/",
          "height": 35
        },
        "id": "UM3RJoTf0Rep",
        "outputId": "a5e1f1eb-66bc-4a60-def8-3a89d4e5ce49"
      },
      "source": [
        "# imports\n",
        "import string\n",
        "# function to remove punctuation\n",
        "def remove_punctuation(text):\n",
        "    text = ''.join([c for c in text if c not in string.punctuation])\n",
        "    return text\n",
        "# call functiona\n",
        "remove_punctuation('Article: @First sentence of some, {important} article having lot of ~ punctuations. And another one;!')"
      ],
      "execution_count": null,
      "outputs": [
        {
          "output_type": "execute_result",
          "data": {
            "application/vnd.google.colaboratory.intrinsic+json": {
              "type": "string"
            },
            "text/plain": [
              "'Article First sentence of some important article having lot of  punctuations And another one'"
            ]
          },
          "metadata": {},
          "execution_count": 71
        }
      ]
    },
    {
      "cell_type": "code",
      "metadata": {
        "id": "tNKTo0sA0VfH"
      },
      "source": [
        "df_row[\"remove_punctuation\"] = df_row[\"text_stopnoNegative\"].apply(remove_punctuation)"
      ],
      "execution_count": null,
      "outputs": []
    },
    {
      "cell_type": "code",
      "metadata": {
        "colab": {
          "base_uri": "https://localhost:8080/",
          "height": 536
        },
        "id": "imgM4Fep5wwh",
        "outputId": "64043874-89e5-4b13-b94d-72628b1e4824"
      },
      "source": [
        "New_df = df_row[['remove_punctuation','58',\t'16',\t'29',\t'32',\t'34',\t'57',\t'54',\t'39',\t'53' ,\t'0' ,\t'63' ,\t'49' ,\t'62' ,\t'37' ,\t'56' ,\t'55' ,\t'36' ,\t'46' ,\t'27' ,\t'59' ,\t'70' ,\t'30',\t'40' ,\t'43' ,\t'76',\t'38' ,\t'50' ,\t'77' ,\t'64'\t,'10',\t'21' ,\t'44' ,\t'73' ,\t'25' ,\t'61'\t,'35'\t,'89'\t,'41'\t,'33',\t'71'\t, '75',\t'1'\t]].copy()\n",
        "New_df.head()"
      ],
      "execution_count": null,
      "outputs": [
        {
          "output_type": "execute_result",
          "data": {
            "text/html": [
              "<div>\n",
              "<style scoped>\n",
              "    .dataframe tbody tr th:only-of-type {\n",
              "        vertical-align: middle;\n",
              "    }\n",
              "\n",
              "    .dataframe tbody tr th {\n",
              "        vertical-align: top;\n",
              "    }\n",
              "\n",
              "    .dataframe thead th {\n",
              "        text-align: right;\n",
              "    }\n",
              "</style>\n",
              "<table border=\"1\" class=\"dataframe\">\n",
              "  <thead>\n",
              "    <tr style=\"text-align: right;\">\n",
              "      <th></th>\n",
              "      <th>remove_punctuation</th>\n",
              "      <th>58</th>\n",
              "      <th>16</th>\n",
              "      <th>29</th>\n",
              "      <th>32</th>\n",
              "      <th>34</th>\n",
              "      <th>57</th>\n",
              "      <th>54</th>\n",
              "      <th>39</th>\n",
              "      <th>53</th>\n",
              "      <th>0</th>\n",
              "      <th>63</th>\n",
              "      <th>49</th>\n",
              "      <th>62</th>\n",
              "      <th>37</th>\n",
              "      <th>56</th>\n",
              "      <th>55</th>\n",
              "      <th>36</th>\n",
              "      <th>46</th>\n",
              "      <th>27</th>\n",
              "      <th>59</th>\n",
              "      <th>70</th>\n",
              "      <th>30</th>\n",
              "      <th>40</th>\n",
              "      <th>43</th>\n",
              "      <th>76</th>\n",
              "      <th>38</th>\n",
              "      <th>50</th>\n",
              "      <th>77</th>\n",
              "      <th>64</th>\n",
              "      <th>10</th>\n",
              "      <th>21</th>\n",
              "      <th>44</th>\n",
              "      <th>73</th>\n",
              "      <th>25</th>\n",
              "      <th>61</th>\n",
              "      <th>35</th>\n",
              "      <th>89</th>\n",
              "      <th>41</th>\n",
              "      <th>33</th>\n",
              "      <th>71</th>\n",
              "      <th>75</th>\n",
              "      <th>1</th>\n",
              "    </tr>\n",
              "  </thead>\n",
              "  <tbody>\n",
              "    <tr>\n",
              "      <th>0</th>\n",
              "      <td>peoples experience wet increase meditation dosage quick question people antidepressant help ok g...</td>\n",
              "      <td>1</td>\n",
              "      <td>0</td>\n",
              "      <td>0</td>\n",
              "      <td>0</td>\n",
              "      <td>0</td>\n",
              "      <td>0</td>\n",
              "      <td>0</td>\n",
              "      <td>0</td>\n",
              "      <td>0</td>\n",
              "      <td>0</td>\n",
              "      <td>0</td>\n",
              "      <td>0</td>\n",
              "      <td>0</td>\n",
              "      <td>0</td>\n",
              "      <td>0</td>\n",
              "      <td>0</td>\n",
              "      <td>0</td>\n",
              "      <td>0</td>\n",
              "      <td>0</td>\n",
              "      <td>0</td>\n",
              "      <td>0</td>\n",
              "      <td>0</td>\n",
              "      <td>0</td>\n",
              "      <td>0</td>\n",
              "      <td>0</td>\n",
              "      <td>0</td>\n",
              "      <td>0</td>\n",
              "      <td>0</td>\n",
              "      <td>0</td>\n",
              "      <td>0</td>\n",
              "      <td>0</td>\n",
              "      <td>0</td>\n",
              "      <td>0</td>\n",
              "      <td>0</td>\n",
              "      <td>0</td>\n",
              "      <td>0</td>\n",
              "      <td>0</td>\n",
              "      <td>0</td>\n",
              "      <td>0</td>\n",
              "      <td>0</td>\n",
              "      <td>0</td>\n",
              "      <td>0</td>\n",
              "    </tr>\n",
              "    <tr>\n",
              "      <th>1</th>\n",
              "      <td>anxious nothing worry about probably search things worry problem happen random sometimes somethi...</td>\n",
              "      <td>0</td>\n",
              "      <td>1</td>\n",
              "      <td>0</td>\n",
              "      <td>0</td>\n",
              "      <td>0</td>\n",
              "      <td>0</td>\n",
              "      <td>0</td>\n",
              "      <td>0</td>\n",
              "      <td>0</td>\n",
              "      <td>0</td>\n",
              "      <td>0</td>\n",
              "      <td>0</td>\n",
              "      <td>0</td>\n",
              "      <td>0</td>\n",
              "      <td>0</td>\n",
              "      <td>0</td>\n",
              "      <td>0</td>\n",
              "      <td>0</td>\n",
              "      <td>0</td>\n",
              "      <td>0</td>\n",
              "      <td>0</td>\n",
              "      <td>0</td>\n",
              "      <td>0</td>\n",
              "      <td>0</td>\n",
              "      <td>0</td>\n",
              "      <td>0</td>\n",
              "      <td>0</td>\n",
              "      <td>0</td>\n",
              "      <td>0</td>\n",
              "      <td>0</td>\n",
              "      <td>0</td>\n",
              "      <td>0</td>\n",
              "      <td>0</td>\n",
              "      <td>0</td>\n",
              "      <td>0</td>\n",
              "      <td>0</td>\n",
              "      <td>0</td>\n",
              "      <td>0</td>\n",
              "      <td>0</td>\n",
              "      <td>0</td>\n",
              "      <td>0</td>\n",
              "      <td>0</td>\n",
              "    </tr>\n",
              "    <tr>\n",
              "      <th>2</th>\n",
              "      <td>fight anything everything time feed fight head fight world media saw social structures religion ...</td>\n",
              "      <td>0</td>\n",
              "      <td>0</td>\n",
              "      <td>1</td>\n",
              "      <td>1</td>\n",
              "      <td>1</td>\n",
              "      <td>1</td>\n",
              "      <td>0</td>\n",
              "      <td>0</td>\n",
              "      <td>0</td>\n",
              "      <td>0</td>\n",
              "      <td>0</td>\n",
              "      <td>0</td>\n",
              "      <td>0</td>\n",
              "      <td>0</td>\n",
              "      <td>0</td>\n",
              "      <td>0</td>\n",
              "      <td>0</td>\n",
              "      <td>0</td>\n",
              "      <td>0</td>\n",
              "      <td>0</td>\n",
              "      <td>0</td>\n",
              "      <td>0</td>\n",
              "      <td>0</td>\n",
              "      <td>0</td>\n",
              "      <td>0</td>\n",
              "      <td>0</td>\n",
              "      <td>0</td>\n",
              "      <td>0</td>\n",
              "      <td>0</td>\n",
              "      <td>0</td>\n",
              "      <td>0</td>\n",
              "      <td>0</td>\n",
              "      <td>0</td>\n",
              "      <td>0</td>\n",
              "      <td>0</td>\n",
              "      <td>0</td>\n",
              "      <td>0</td>\n",
              "      <td>0</td>\n",
              "      <td>0</td>\n",
              "      <td>0</td>\n",
              "      <td>0</td>\n",
              "      <td>0</td>\n",
              "    </tr>\n",
              "    <tr>\n",
              "      <th>3</th>\n",
              "      <td>dae overwhelm mood swing allow elaborate sit desk computer whatever span of would say hour slowl...</td>\n",
              "      <td>0</td>\n",
              "      <td>0</td>\n",
              "      <td>0</td>\n",
              "      <td>0</td>\n",
              "      <td>0</td>\n",
              "      <td>0</td>\n",
              "      <td>1</td>\n",
              "      <td>0</td>\n",
              "      <td>0</td>\n",
              "      <td>0</td>\n",
              "      <td>0</td>\n",
              "      <td>0</td>\n",
              "      <td>0</td>\n",
              "      <td>0</td>\n",
              "      <td>0</td>\n",
              "      <td>0</td>\n",
              "      <td>0</td>\n",
              "      <td>0</td>\n",
              "      <td>0</td>\n",
              "      <td>0</td>\n",
              "      <td>0</td>\n",
              "      <td>0</td>\n",
              "      <td>0</td>\n",
              "      <td>0</td>\n",
              "      <td>0</td>\n",
              "      <td>0</td>\n",
              "      <td>0</td>\n",
              "      <td>0</td>\n",
              "      <td>0</td>\n",
              "      <td>0</td>\n",
              "      <td>0</td>\n",
              "      <td>0</td>\n",
              "      <td>0</td>\n",
              "      <td>0</td>\n",
              "      <td>0</td>\n",
              "      <td>0</td>\n",
              "      <td>0</td>\n",
              "      <td>0</td>\n",
              "      <td>0</td>\n",
              "      <td>0</td>\n",
              "      <td>0</td>\n",
              "      <td>0</td>\n",
              "    </tr>\n",
              "    <tr>\n",
              "      <th>4</th>\n",
              "      <td>paranoid constantly worry think many silly things especially internet wise feel like trace perso...</td>\n",
              "      <td>0</td>\n",
              "      <td>0</td>\n",
              "      <td>0</td>\n",
              "      <td>0</td>\n",
              "      <td>0</td>\n",
              "      <td>0</td>\n",
              "      <td>0</td>\n",
              "      <td>1</td>\n",
              "      <td>0</td>\n",
              "      <td>0</td>\n",
              "      <td>0</td>\n",
              "      <td>0</td>\n",
              "      <td>0</td>\n",
              "      <td>0</td>\n",
              "      <td>0</td>\n",
              "      <td>0</td>\n",
              "      <td>0</td>\n",
              "      <td>0</td>\n",
              "      <td>0</td>\n",
              "      <td>0</td>\n",
              "      <td>0</td>\n",
              "      <td>0</td>\n",
              "      <td>0</td>\n",
              "      <td>0</td>\n",
              "      <td>0</td>\n",
              "      <td>0</td>\n",
              "      <td>0</td>\n",
              "      <td>0</td>\n",
              "      <td>0</td>\n",
              "      <td>0</td>\n",
              "      <td>0</td>\n",
              "      <td>0</td>\n",
              "      <td>0</td>\n",
              "      <td>0</td>\n",
              "      <td>0</td>\n",
              "      <td>0</td>\n",
              "      <td>0</td>\n",
              "      <td>0</td>\n",
              "      <td>0</td>\n",
              "      <td>0</td>\n",
              "      <td>0</td>\n",
              "      <td>0</td>\n",
              "    </tr>\n",
              "  </tbody>\n",
              "</table>\n",
              "</div>"
            ],
            "text/plain": [
              "                                                                                    remove_punctuation  ...  1\n",
              "0  peoples experience wet increase meditation dosage quick question people antidepressant help ok g...  ...  0\n",
              "1  anxious nothing worry about probably search things worry problem happen random sometimes somethi...  ...  0\n",
              "2  fight anything everything time feed fight head fight world media saw social structures religion ...  ...  0\n",
              "3  dae overwhelm mood swing allow elaborate sit desk computer whatever span of would say hour slowl...  ...  0\n",
              "4  paranoid constantly worry think many silly things especially internet wise feel like trace perso...  ...  0\n",
              "\n",
              "[5 rows x 43 columns]"
            ]
          },
          "metadata": {},
          "execution_count": 73
        }
      ]
    },
    {
      "cell_type": "code",
      "metadata": {
        "id": "zD_uhpoSjbsa"
      },
      "source": [
        "import matplotlib.pyplot as plt            # library for visualization\n",
        "import random                              # pseudo-random number generator\n",
        "import seaborn as sns\n",
        "import re\n",
        "import os\n",
        "import csv"
      ],
      "execution_count": null,
      "outputs": []
    },
    {
      "cell_type": "code",
      "metadata": {
        "colab": {
          "base_uri": "https://localhost:8080/",
          "height": 1000
        },
        "id": "VzE-TuhjjQZb",
        "outputId": "0b71451c-9f33-4e53-97e0-ec601df7803b"
      },
      "source": [
        "sns.set(font_scale = 2)\n",
        "plt.figure(figsize=(40,20))\n",
        "\n",
        "ax= sns.barplot(array2, New_df.iloc[:,1:].sum().values)\n",
        "\n",
        "plt.title(\"Number of posts related to symptoms\", fontsize=24)\n",
        "plt.ylabel('Number of posts', fontsize=18)\n",
        "plt.xlabel('Symptoms', fontsize=18)\n",
        "\n",
        "#adding the text labels\n",
        "rects = ax.patches\n",
        "labels = New_df.iloc[:,1:].sum().values\n",
        "for rect, label in zip(rects, labels):\n",
        "    height = rect.get_height()\n",
        "    ax.text(rect.get_x() + rect.get_width()/2, height + 5, label, ha='center', va='bottom', fontsize=18)\n",
        "\n",
        "plt.show()"
      ],
      "execution_count": null,
      "outputs": [
        {
          "output_type": "stream",
          "name": "stderr",
          "text": [
            "/usr/local/lib/python3.7/dist-packages/seaborn/_decorators.py:43: FutureWarning: Pass the following variables as keyword args: x, y. From version 0.12, the only valid positional argument will be `data`, and passing other arguments without an explicit keyword will result in an error or misinterpretation.\n",
            "  FutureWarning\n"
          ]
        },
        {
          "output_type": "display_data",
          "data": {
            "image/png": "[encoded data removed]",
            "text/plain": [
              "<Figure size 2880x1440 with 1 Axes>"
            ]
          },
          "metadata": {}
        }
      ]
    },
    {
      "cell_type": "code",
      "metadata": {
        "id": "tEBQG6bnlKpl"
      },
      "source": [
        "categoryarr=[]"
      ],
      "execution_count": null,
      "outputs": []
    },
    {
      "cell_type": "code",
      "metadata": {
        "id": "megshBTVghbK"
      },
      "source": [
        "for category in array2:\n",
        "       count =0\n",
        "       for index, row in New_df.iterrows():\n",
        "          if (row[category] == 1):\n",
        "                   count = count + 1\n",
        "       if (count <= 7):\n",
        "                   New_df.drop(category,axis='columns', inplace=True)\n",
        "       \n",
        "          \n",
        "   "
      ],
      "execution_count": null,
      "outputs": []
    },
    {
      "cell_type": "code",
      "metadata": {
        "colab": {
          "base_uri": "https://localhost:8080/",
          "height": 423
        },
        "id": "KDBnponWmBAu",
        "outputId": "ee1bac1d-c328-48be-cca7-aff2b9f36424"
      },
      "source": [
        "New_df"
      ],
      "execution_count": null,
      "outputs": [
        {
          "output_type": "execute_result",
          "data": {
            "text/html": [
              "<div>\n",
              "<style scoped>\n",
              "    .dataframe tbody tr th:only-of-type {\n",
              "        vertical-align: middle;\n",
              "    }\n",
              "\n",
              "    .dataframe tbody tr th {\n",
              "        vertical-align: top;\n",
              "    }\n",
              "\n",
              "    .dataframe thead th {\n",
              "        text-align: right;\n",
              "    }\n",
              "</style>\n",
              "<table border=\"1\" class=\"dataframe\">\n",
              "  <thead>\n",
              "    <tr style=\"text-align: right;\">\n",
              "      <th></th>\n",
              "      <th>remove_punctuation</th>\n",
              "      <th>58</th>\n",
              "      <th>29</th>\n",
              "      <th>34</th>\n",
              "      <th>57</th>\n",
              "      <th>54</th>\n",
              "      <th>39</th>\n",
              "      <th>53</th>\n",
              "      <th>0</th>\n",
              "      <th>63</th>\n",
              "      <th>62</th>\n",
              "      <th>56</th>\n",
              "      <th>55</th>\n",
              "      <th>36</th>\n",
              "      <th>46</th>\n",
              "      <th>59</th>\n",
              "      <th>40</th>\n",
              "      <th>43</th>\n",
              "    </tr>\n",
              "  </thead>\n",
              "  <tbody>\n",
              "    <tr>\n",
              "      <th>0</th>\n",
              "      <td>peoples experience wet increase meditation dosage quick question people antidepressant help ok g...</td>\n",
              "      <td>1</td>\n",
              "      <td>0</td>\n",
              "      <td>0</td>\n",
              "      <td>0</td>\n",
              "      <td>0</td>\n",
              "      <td>0</td>\n",
              "      <td>0</td>\n",
              "      <td>0</td>\n",
              "      <td>0</td>\n",
              "      <td>0</td>\n",
              "      <td>0</td>\n",
              "      <td>0</td>\n",
              "      <td>0</td>\n",
              "      <td>0</td>\n",
              "      <td>0</td>\n",
              "      <td>0</td>\n",
              "      <td>0</td>\n",
              "    </tr>\n",
              "    <tr>\n",
              "      <th>1</th>\n",
              "      <td>anxious nothing worry about probably search things worry problem happen random sometimes somethi...</td>\n",
              "      <td>0</td>\n",
              "      <td>0</td>\n",
              "      <td>0</td>\n",
              "      <td>0</td>\n",
              "      <td>0</td>\n",
              "      <td>0</td>\n",
              "      <td>0</td>\n",
              "      <td>0</td>\n",
              "      <td>0</td>\n",
              "      <td>0</td>\n",
              "      <td>0</td>\n",
              "      <td>0</td>\n",
              "      <td>0</td>\n",
              "      <td>0</td>\n",
              "      <td>0</td>\n",
              "      <td>0</td>\n",
              "      <td>0</td>\n",
              "    </tr>\n",
              "    <tr>\n",
              "      <th>2</th>\n",
              "      <td>fight anything everything time feed fight head fight world media saw social structures religion ...</td>\n",
              "      <td>0</td>\n",
              "      <td>1</td>\n",
              "      <td>1</td>\n",
              "      <td>1</td>\n",
              "      <td>0</td>\n",
              "      <td>0</td>\n",
              "      <td>0</td>\n",
              "      <td>0</td>\n",
              "      <td>0</td>\n",
              "      <td>0</td>\n",
              "      <td>0</td>\n",
              "      <td>0</td>\n",
              "      <td>0</td>\n",
              "      <td>0</td>\n",
              "      <td>0</td>\n",
              "      <td>0</td>\n",
              "      <td>0</td>\n",
              "    </tr>\n",
              "    <tr>\n",
              "      <th>3</th>\n",
              "      <td>dae overwhelm mood swing allow elaborate sit desk computer whatever span of would say hour slowl...</td>\n",
              "      <td>0</td>\n",
              "      <td>0</td>\n",
              "      <td>0</td>\n",
              "      <td>0</td>\n",
              "      <td>1</td>\n",
              "      <td>0</td>\n",
              "      <td>0</td>\n",
              "      <td>0</td>\n",
              "      <td>0</td>\n",
              "      <td>0</td>\n",
              "      <td>0</td>\n",
              "      <td>0</td>\n",
              "      <td>0</td>\n",
              "      <td>0</td>\n",
              "      <td>0</td>\n",
              "      <td>0</td>\n",
              "      <td>0</td>\n",
              "    </tr>\n",
              "    <tr>\n",
              "      <th>4</th>\n",
              "      <td>paranoid constantly worry think many silly things especially internet wise feel like trace perso...</td>\n",
              "      <td>0</td>\n",
              "      <td>0</td>\n",
              "      <td>0</td>\n",
              "      <td>0</td>\n",
              "      <td>0</td>\n",
              "      <td>1</td>\n",
              "      <td>0</td>\n",
              "      <td>0</td>\n",
              "      <td>0</td>\n",
              "      <td>0</td>\n",
              "      <td>0</td>\n",
              "      <td>0</td>\n",
              "      <td>0</td>\n",
              "      <td>0</td>\n",
              "      <td>0</td>\n",
              "      <td>0</td>\n",
              "      <td>0</td>\n",
              "    </tr>\n",
              "    <tr>\n",
              "      <th>...</th>\n",
              "      <td>...</td>\n",
              "      <td>...</td>\n",
              "      <td>...</td>\n",
              "      <td>...</td>\n",
              "      <td>...</td>\n",
              "      <td>...</td>\n",
              "      <td>...</td>\n",
              "      <td>...</td>\n",
              "      <td>...</td>\n",
              "      <td>...</td>\n",
              "      <td>...</td>\n",
              "      <td>...</td>\n",
              "      <td>...</td>\n",
              "      <td>...</td>\n",
              "      <td>...</td>\n",
              "      <td>...</td>\n",
              "      <td>...</td>\n",
              "      <td>...</td>\n",
              "    </tr>\n",
              "    <tr>\n",
              "      <th>246</th>\n",
              "      <td>til sitting still lot come home nye party strangely pleasant sober up ak no hanover headache any...</td>\n",
              "      <td>0</td>\n",
              "      <td>0</td>\n",
              "      <td>0</td>\n",
              "      <td>0</td>\n",
              "      <td>0</td>\n",
              "      <td>0</td>\n",
              "      <td>0</td>\n",
              "      <td>0</td>\n",
              "      <td>0</td>\n",
              "      <td>1</td>\n",
              "      <td>0</td>\n",
              "      <td>0</td>\n",
              "      <td>0</td>\n",
              "      <td>0</td>\n",
              "      <td>0</td>\n",
              "      <td>0</td>\n",
              "      <td>0</td>\n",
              "    </tr>\n",
              "    <tr>\n",
              "      <th>247</th>\n",
              "      <td>beliefs deal years time manageable time not sure understand talk therapy try meditation try dist...</td>\n",
              "      <td>0</td>\n",
              "      <td>0</td>\n",
              "      <td>0</td>\n",
              "      <td>0</td>\n",
              "      <td>0</td>\n",
              "      <td>0</td>\n",
              "      <td>0</td>\n",
              "      <td>0</td>\n",
              "      <td>1</td>\n",
              "      <td>0</td>\n",
              "      <td>0</td>\n",
              "      <td>0</td>\n",
              "      <td>0</td>\n",
              "      <td>0</td>\n",
              "      <td>0</td>\n",
              "      <td>0</td>\n",
              "      <td>0</td>\n",
              "    </tr>\n",
              "    <tr>\n",
              "      <th>248</th>\n",
              "      <td>little breakdown key guns today birthday and get month relationship glad not go anywhere want so...</td>\n",
              "      <td>0</td>\n",
              "      <td>0</td>\n",
              "      <td>0</td>\n",
              "      <td>0</td>\n",
              "      <td>0</td>\n",
              "      <td>0</td>\n",
              "      <td>0</td>\n",
              "      <td>0</td>\n",
              "      <td>1</td>\n",
              "      <td>0</td>\n",
              "      <td>0</td>\n",
              "      <td>0</td>\n",
              "      <td>0</td>\n",
              "      <td>0</td>\n",
              "      <td>0</td>\n",
              "      <td>0</td>\n",
              "      <td>0</td>\n",
              "    </tr>\n",
              "    <tr>\n",
              "      <th>249</th>\n",
              "      <td>beds worth it first all glad find community make realize not alone helpful read gun sharing long...</td>\n",
              "      <td>0</td>\n",
              "      <td>0</td>\n",
              "      <td>0</td>\n",
              "      <td>0</td>\n",
              "      <td>0</td>\n",
              "      <td>0</td>\n",
              "      <td>0</td>\n",
              "      <td>1</td>\n",
              "      <td>0</td>\n",
              "      <td>0</td>\n",
              "      <td>0</td>\n",
              "      <td>0</td>\n",
              "      <td>0</td>\n",
              "      <td>0</td>\n",
              "      <td>0</td>\n",
              "      <td>0</td>\n",
              "      <td>0</td>\n",
              "    </tr>\n",
              "    <tr>\n",
              "      <th>250</th>\n",
              "      <td>lips selfsabotaging sometimes get rhythm something enjoy like write song feel sudden need stop i...</td>\n",
              "      <td>0</td>\n",
              "      <td>1</td>\n",
              "      <td>0</td>\n",
              "      <td>0</td>\n",
              "      <td>0</td>\n",
              "      <td>0</td>\n",
              "      <td>0</td>\n",
              "      <td>0</td>\n",
              "      <td>0</td>\n",
              "      <td>0</td>\n",
              "      <td>0</td>\n",
              "      <td>0</td>\n",
              "      <td>0</td>\n",
              "      <td>0</td>\n",
              "      <td>0</td>\n",
              "      <td>0</td>\n",
              "      <td>0</td>\n",
              "    </tr>\n",
              "  </tbody>\n",
              "</table>\n",
              "<p>249 rows × 18 columns</p>\n",
              "</div>"
            ],
            "text/plain": [
              "                                                                                      remove_punctuation  ...  43\n",
              "0    peoples experience wet increase meditation dosage quick question people antidepressant help ok g...  ...   0\n",
              "1    anxious nothing worry about probably search things worry problem happen random sometimes somethi...  ...   0\n",
              "2    fight anything everything time feed fight head fight world media saw social structures religion ...  ...   0\n",
              "3    dae overwhelm mood swing allow elaborate sit desk computer whatever span of would say hour slowl...  ...   0\n",
              "4    paranoid constantly worry think many silly things especially internet wise feel like trace perso...  ...   0\n",
              "..                                                                                                   ...  ...  ..\n",
              "246  til sitting still lot come home nye party strangely pleasant sober up ak no hanover headache any...  ...   0\n",
              "247  beliefs deal years time manageable time not sure understand talk therapy try meditation try dist...  ...   0\n",
              "248  little breakdown key guns today birthday and get month relationship glad not go anywhere want so...  ...   0\n",
              "249  beds worth it first all glad find community make realize not alone helpful read gun sharing long...  ...   0\n",
              "250  lips selfsabotaging sometimes get rhythm something enjoy like write song feel sudden need stop i...  ...   0\n",
              "\n",
              "[249 rows x 18 columns]"
            ]
          },
          "metadata": {},
          "execution_count": 159
        }
      ]
    },
    {
      "cell_type": "code",
      "metadata": {
        "id": "q7kutowYeZWC"
      },
      "source": [
        ""
      ],
      "execution_count": null,
      "outputs": []
    },
    {
      "cell_type": "markdown",
      "metadata": {
        "id": "RhuCj_un6UEP"
      },
      "source": [
        "Train and Test Split "
      ]
    },
    {
      "cell_type": "code",
      "metadata": {
        "colab": {
          "base_uri": "https://localhost:8080/"
        },
        "id": "6mVJEowl6PF9",
        "outputId": "7528971f-d17b-4289-e87c-bfd2d57c8ea3"
      },
      "source": [
        "from sklearn.model_selection import train_test_split\n",
        "\n",
        "train, test = train_test_split(New_df, random_state=42, test_size=0.30, shuffle=True)\n",
        "\n",
        "print(train.shape)\n",
        "print(test.shape)"
      ],
      "execution_count": null,
      "outputs": [
        {
          "output_type": "stream",
          "name": "stdout",
          "text": [
            "(174, 18)\n",
            "(75, 18)\n"
          ]
        }
      ]
    },
    {
      "cell_type": "code",
      "metadata": {
        "id": "Pw6XCJWe54dt"
      },
      "source": [
        "# train_x = train['remove_punctuation']\n",
        "# test_x = test['remove_punctuation']\n",
        "# train_y  = train.drop(labels = [\"remove_punctuation\"], axis=1)\n",
        "# test_y= test.drop(labels = [\"remove_punctuation\"], axis=1)\n"
      ],
      "execution_count": null,
      "outputs": []
    },
    {
      "cell_type": "markdown",
      "metadata": {
        "id": "M8JO2i880ega"
      },
      "source": [
        "Here the preprocessing over "
      ]
    },
    {
      "cell_type": "code",
      "metadata": {
        "id": "uXRpYH3K9G5K"
      },
      "source": [
        "train_text = train['remove_punctuation']\n",
        "test_text = test['remove_punctuation']"
      ],
      "execution_count": null,
      "outputs": []
    },
    {
      "cell_type": "markdown",
      "metadata": {
        "id": "prDTXQGRZM9K"
      },
      "source": [
        "TF-IDF"
      ]
    },
    {
      "cell_type": "code",
      "metadata": {
        "colab": {
          "base_uri": "https://localhost:8080/"
        },
        "id": "3g_x-obu5diR",
        "outputId": "2c76aa62-c931-4ae3-a8c4-82d4bb5e1fae"
      },
      "source": [
        "from sklearn.feature_extraction.text import TfidfVectorizer\n",
        "vectorizer = TfidfVectorizer(strip_accents='unicode', analyzer='word', ngram_range=(2,3))\n",
        "vectorizer.fit(train_text)\n",
        "vectorizer.fit(test_text)\n"
      ],
      "execution_count": null,
      "outputs": [
        {
          "output_type": "execute_result",
          "data": {
            "text/plain": [
              "TfidfVectorizer(ngram_range=(2, 3), strip_accents='unicode')"
            ]
          },
          "metadata": {},
          "execution_count": 162
        }
      ]
    },
    {
      "cell_type": "code",
      "metadata": {
        "id": "WYe0_K2LB8b4"
      },
      "source": [
        "x_train = vectorizer.transform(train_text)\n",
        "y_train = train.drop(labels = ['remove_punctuation'], axis=1)\n",
        "\n",
        "x_test = vectorizer.transform(test_text)\n",
        "y_test = test.drop(labels = ['remove_punctuation'], axis=1)"
      ],
      "execution_count": null,
      "outputs": []
    },
    {
      "cell_type": "code",
      "metadata": {
        "colab": {
          "base_uri": "https://localhost:8080/"
        },
        "id": "VnOeiVgf8_mE",
        "outputId": "2dc6f0a6-bffe-4b2d-ead6-6b7a0d275d3f"
      },
      "source": [
        "x_train"
      ],
      "execution_count": null,
      "outputs": [
        {
          "output_type": "execute_result",
          "data": {
            "text/plain": [
              "<174x14281 sparse matrix of type '<class 'numpy.float64'>'\n",
              "\twith 2344 stored elements in Compressed Sparse Row format>"
            ]
          },
          "metadata": {},
          "execution_count": 164
        }
      ]
    },
    {
      "cell_type": "markdown",
      "metadata": {
        "id": "tdLGJZ-g9M1I"
      },
      "source": [
        "Multi label classification without PCA"
      ]
    },
    {
      "cell_type": "code",
      "metadata": {
        "id": "LGaY5yvu9Q8N"
      },
      "source": [
        "from sklearn.linear_model import LogisticRegression\n",
        "from sklearn.pipeline import Pipeline\n",
        "from sklearn.metrics import accuracy_score\n",
        "from sklearn.multiclass import OneVsRestClassifier"
      ],
      "execution_count": null,
      "outputs": []
    },
    {
      "cell_type": "code",
      "metadata": {
        "colab": {
          "base_uri": "https://localhost:8080/"
        },
        "id": "y506rBy3-MjJ",
        "outputId": "f1f14436-6b4f-4fb4-997e-b6cfb9b5acda"
      },
      "source": [
        "\n",
        "# using binary relevance\n",
        "from skmultilearn.problem_transform import BinaryRelevance\n",
        "from sklearn.naive_bayes import GaussianNB\n",
        "\n",
        "# initialize binary relevance multi-label classifier\n",
        "# with a gaussian naive bayes base classifier\n",
        "classifier = BinaryRelevance(GaussianNB())\n",
        "\n",
        "# train\n",
        "classifier.fit(x_train, y_train)\n",
        "\n",
        "# predict\n",
        "predictions = classifier.predict(x_test)\n",
        "\n",
        "# accuracy\n",
        "print(\"Accuracy = \",accuracy_score(y_test,predictions))\n",
        "print(\"\\n\")"
      ],
      "execution_count": null,
      "outputs": [
        {
          "output_type": "stream",
          "name": "stdout",
          "text": [
            "Accuracy =  0.12\n",
            "\n",
            "\n"
          ]
        }
      ]
    },
    {
      "cell_type": "code",
      "metadata": {
        "id": "lU9Zx7LpfQMm"
      },
      "source": [
        "# using Label Powerset\n",
        "from skmultilearn.problem_transform import LabelPowerset"
      ],
      "execution_count": null,
      "outputs": []
    },
    {
      "cell_type": "code",
      "metadata": {
        "colab": {
          "base_uri": "https://localhost:8080/"
        },
        "id": "ZhSxta1ufRCe",
        "outputId": "377836ba-eebc-4242-a873-1382b1b03fbd"
      },
      "source": [
        "# initialize label powerset multi-label classifier\n",
        "classifier = LabelPowerset(LogisticRegression())\n",
        "\n",
        "# train\n",
        "classifier.fit(x_train, y_train)\n",
        "\n",
        "# predict\n",
        "predictions = classifier.predict(x_test)\n",
        "\n",
        "# accuracy\n",
        "print(\"Accuracy = \",accuracy_score(y_test,predictions))\n",
        "print(\"\\n\")"
      ],
      "execution_count": null,
      "outputs": [
        {
          "output_type": "stream",
          "name": "stdout",
          "text": [
            "Accuracy =  0.08\n",
            "\n",
            "\n"
          ]
        }
      ]
    },
    {
      "cell_type": "code",
      "metadata": {
        "id": "jtYtkhu9f5VT"
      },
      "source": [
        "from sklearn.linear_model import LogisticRegression\n",
        "from sklearn.pipeline import Pipeline\n",
        "from sklearn.metrics import accuracy_score\n",
        "from sklearn.multiclass import OneVsRestClassifier"
      ],
      "execution_count": null,
      "outputs": []
    },
    {
      "cell_type": "code",
      "metadata": {
        "id": "pCNiw1aNgDI6"
      },
      "source": [
        "arr = ['58','29','34','57','54','39','53','0','63','62','56','55','36','46','59','40','43']"
      ],
      "execution_count": null,
      "outputs": []
    },
    {
      "cell_type": "code",
      "metadata": {
        "colab": {
          "base_uri": "https://localhost:8080/"
        },
        "id": "NjFojl8Jf6Mf",
        "outputId": "e661ed8e-dbca-4a63-9ae4-03b7ed8ac5dd"
      },
      "source": [
        "LogReg_pipeline = Pipeline([\n",
        "                ('clf', OneVsRestClassifier(LogisticRegression(solver='sag'), n_jobs=-1)),\n",
        "            ])\n",
        "\n",
        "for category in arr:\n",
        "    print('**Processing {} comments...**'.format(category))\n",
        "    \n",
        "    # Training logistic regression model on train data\n",
        "    LogReg_pipeline.fit(x_train, train[category])\n",
        "    \n",
        "    # calculating test accuracy\n",
        "    prediction = LogReg_pipeline.predict(x_test)\n",
        "    print('Test accuracy is {}'.format(accuracy_score(test[category], prediction)))\n",
        "    print(\"\\n\")"
      ],
      "execution_count": null,
      "outputs": [
        {
          "output_type": "stream",
          "name": "stdout",
          "text": [
            "**Processing 58 comments...**\n",
            "Test accuracy is 0.9733333333333334\n",
            "\n",
            "\n",
            "**Processing 29 comments...**\n",
            "Test accuracy is 0.9733333333333334\n",
            "\n",
            "\n",
            "**Processing 34 comments...**\n",
            "Test accuracy is 0.9466666666666667\n",
            "\n",
            "\n",
            "**Processing 57 comments...**\n",
            "Test accuracy is 0.92\n",
            "\n",
            "\n",
            "**Processing 54 comments...**\n",
            "Test accuracy is 0.7466666666666667\n",
            "\n",
            "\n",
            "**Processing 39 comments...**\n",
            "Test accuracy is 0.9866666666666667\n",
            "\n",
            "\n",
            "**Processing 53 comments...**\n",
            "Test accuracy is 0.7733333333333333\n",
            "\n",
            "\n",
            "**Processing 0 comments...**\n",
            "Test accuracy is 0.92\n",
            "\n",
            "\n",
            "**Processing 63 comments...**\n",
            "Test accuracy is 0.64\n",
            "\n",
            "\n",
            "**Processing 62 comments...**\n",
            "Test accuracy is 0.9066666666666666\n",
            "\n",
            "\n",
            "**Processing 56 comments...**\n",
            "Test accuracy is 0.96\n",
            "\n",
            "\n",
            "**Processing 55 comments...**\n",
            "Test accuracy is 0.92\n",
            "\n",
            "\n",
            "**Processing 36 comments...**\n",
            "Test accuracy is 0.8933333333333333\n",
            "\n",
            "\n",
            "**Processing 46 comments...**\n",
            "Test accuracy is 0.9866666666666667\n",
            "\n",
            "\n",
            "**Processing 59 comments...**\n",
            "Test accuracy is 0.9733333333333334\n",
            "\n",
            "\n",
            "**Processing 40 comments...**\n",
            "Test accuracy is 0.92\n",
            "\n",
            "\n",
            "**Processing 43 comments...**\n",
            "Test accuracy is 0.9333333333333333\n",
            "\n",
            "\n"
          ]
        }
      ]
    },
    {
      "cell_type": "code",
      "metadata": {
        "id": "xvyVmxNGzoye"
      },
      "source": [
        "# # example of a multi-label classification task\n",
        "# from sklearn.datasets import make_multilabel_classification\n",
        "# # define dataset\n",
        "# X, y = make_multilabel_classification(n_samples=1000, n_features=10, n_classes=3, n_labels=2, random_state=1)\n",
        "# # summarize dataset shape\n",
        "# print(X.shape, y.shape)\n",
        "# # summarize first few examples\n",
        "# for i in range(10):\n",
        "# \tprint(X[i], y[i])"
      ],
      "execution_count": null,
      "outputs": []
    },
    {
      "cell_type": "code",
      "metadata": {
        "id": "_wv4_eRbzn4Y"
      },
      "source": [
        "\n",
        "# # define the model\n",
        "# model = Sequential()\n",
        "# model.add(Dense(20, input_dim=n_inputs, kernel_initializer='he_uniform', activation='relu'))\n",
        "# model.add(Dense(n_outputs, activation='sigmoid'))\n",
        "# model.compile(loss='binary_crossentropy', optimizer='adam')"
      ],
      "execution_count": null,
      "outputs": []
    },
    {
      "cell_type": "code",
      "metadata": {
        "id": "VR8NU7EQ31Z9"
      },
      "source": [
        "from sklearn.naive_bayes import MultinomialNB\n",
        "from sklearn.metrics import accuracy_score\n",
        "from sklearn.multiclass import OneVsRestClassifier\n",
        "from nltk.corpus import stopwords\n",
        "stop_words = set(stopwords.words('english'))\n",
        "from sklearn.svm import LinearSVC\n",
        "from sklearn.linear_model import LogisticRegression\n",
        "from sklearn.pipeline import Pipeline\n",
        "import seaborn as sns"
      ],
      "execution_count": null,
      "outputs": []
    },
    {
      "cell_type": "code",
      "metadata": {
        "id": "2xzy2f4w3wxY"
      },
      "source": [
        "SVC_pipeline = Pipeline([\n",
        "              \n",
        "                ('clf', OneVsRestClassifier(LinearSVC(), n_jobs=1)),\n",
        "            ])"
      ],
      "execution_count": null,
      "outputs": []
    },
    {
      "cell_type": "markdown",
      "metadata": {
        "id": "38v1SVBdeDQg"
      },
      "source": [
        ""
      ]
    },
    {
      "cell_type": "code",
      "metadata": {
        "colab": {
          "base_uri": "https://localhost:8080/"
        },
        "id": "Z4O6LHyh27on",
        "outputId": "0a9dcd5c-b756-4d8f-b686-c645e7e71c03"
      },
      "source": [
        "for category in arr:\n",
        "    print('... Processing {}'.format(category))\n",
        "    # train the model using X_dtm & y\n",
        "    SVC_pipeline.fit(x_train, train[category])\n",
        "    # compute the testing accuracy\n",
        "    prediction = SVC_pipeline.predict(x_test)\n",
        "    print('Test accuracy is {}'.format(accuracy_score(test[category], prediction)))"
      ],
      "execution_count": null,
      "outputs": [
        {
          "output_type": "stream",
          "name": "stdout",
          "text": [
            "... Processing 58\n",
            "Test accuracy is 0.9733333333333334\n",
            "... Processing 29\n",
            "Test accuracy is 0.9733333333333334\n",
            "... Processing 34\n",
            "Test accuracy is 0.9466666666666667\n",
            "... Processing 57\n",
            "Test accuracy is 0.92\n",
            "... Processing 54\n",
            "Test accuracy is 0.7466666666666667\n",
            "... Processing 39\n",
            "Test accuracy is 0.9866666666666667\n",
            "... Processing 53\n",
            "Test accuracy is 0.7733333333333333\n",
            "... Processing 0\n",
            "Test accuracy is 0.92\n",
            "... Processing 63\n",
            "Test accuracy is 0.64\n",
            "... Processing 62\n",
            "Test accuracy is 0.9066666666666666\n",
            "... Processing 56\n",
            "Test accuracy is 0.96\n",
            "... Processing 55\n",
            "Test accuracy is 0.92\n",
            "... Processing 36\n",
            "Test accuracy is 0.8933333333333333\n",
            "... Processing 46\n",
            "Test accuracy is 0.9866666666666667\n",
            "... Processing 59\n",
            "Test accuracy is 0.9733333333333334\n",
            "... Processing 40\n",
            "Test accuracy is 0.92\n",
            "... Processing 43\n",
            "Test accuracy is 0.9333333333333333\n"
          ]
        }
      ]
    },
    {
      "cell_type": "code",
      "metadata": {
        "id": "IMIGpYzC5D6J"
      },
      "source": [
        ""
      ],
      "execution_count": null,
      "outputs": []
    },
    {
      "cell_type": "markdown",
      "metadata": {
        "id": "BXML7YY75SpQ"
      },
      "source": [
        "Models  with SVD"
      ]
    },
    {
      "cell_type": "code",
      "metadata": {
        "id": "T-ZFONAbC-Ip"
      },
      "source": [
        ""
      ],
      "execution_count": null,
      "outputs": []
    },
    {
      "cell_type": "code",
      "metadata": {
        "colab": {
          "base_uri": "https://localhost:8080/"
        },
        "id": "i4uCVnKV5VuY",
        "outputId": "6d61617d-dac5-46f1-92c4-848018c73020"
      },
      "source": [
        " from sklearn.decomposition import TruncatedSVD\n",
        " from scipy.sparse import csr_matrix\n",
        " import numpy as np\n",
        "\n",
        " svd = TruncatedSVD(n_components=500, n_iter=7, random_state=42)\n",
        " svd.fit(x_train)\n",
        "\n",
        "\n",
        "\n",
        " print(svd.explained_variance_ratio_.sum())\n",
        "\n",
        " X_truncated = svd.fit_transform(x_train)\n",
        " X_truncated_test=svd.transform(x_test)\n",
        "\n",
        "\n"
      ],
      "execution_count": null,
      "outputs": [
        {
          "output_type": "stream",
          "name": "stdout",
          "text": [
            "1.0\n"
          ]
        }
      ]
    },
    {
      "cell_type": "code",
      "metadata": {
        "id": "LIIViZ9jLgm7"
      },
      "source": [
        "SVC_pipeline = Pipeline([\n",
        "              \n",
        "                ('clf', OneVsRestClassifier(LinearSVC(), n_jobs=1)),\n",
        "            ])"
      ],
      "execution_count": null,
      "outputs": []
    },
    {
      "cell_type": "code",
      "metadata": {
        "colab": {
          "base_uri": "https://localhost:8080/"
        },
        "id": "eIIdo2jsLrOq",
        "outputId": "e2ba8d28-7164-4042-aac1-25b0072cff74"
      },
      "source": [
        "for category in arr:\n",
        "    print('... Processing {}'.format(category))\n",
        "    # train the model using X_dtm & y\n",
        "    SVC_pipeline.fit(X_truncated, train[category])\n",
        "    # compute the testing accuracy\n",
        "    prediction = SVC_pipeline.predict(X_truncated_test)\n",
        "    print('Test accuracy is {}'.format(accuracy_score(test[category], prediction)))"
      ],
      "execution_count": null,
      "outputs": [
        {
          "output_type": "stream",
          "name": "stdout",
          "text": [
            "... Processing 58\n",
            "Test accuracy is 0.9733333333333334\n",
            "... Processing 29\n",
            "Test accuracy is 0.9733333333333334\n",
            "... Processing 34\n",
            "Test accuracy is 0.9466666666666667\n",
            "... Processing 57\n",
            "Test accuracy is 0.92\n",
            "... Processing 54\n",
            "Test accuracy is 0.7466666666666667\n",
            "... Processing 39\n",
            "Test accuracy is 0.9866666666666667\n",
            "... Processing 53\n",
            "Test accuracy is 0.7733333333333333\n",
            "... Processing 0\n",
            "Test accuracy is 0.92\n",
            "... Processing 63\n",
            "Test accuracy is 0.64\n",
            "... Processing 62\n",
            "Test accuracy is 0.9066666666666666\n",
            "... Processing 56\n",
            "Test accuracy is 0.96\n",
            "... Processing 55\n",
            "Test accuracy is 0.92\n",
            "... Processing 36\n",
            "Test accuracy is 0.8933333333333333\n",
            "... Processing 46\n",
            "Test accuracy is 0.9866666666666667\n",
            "... Processing 59\n",
            "Test accuracy is 0.9733333333333334\n",
            "... Processing 40\n",
            "Test accuracy is 0.92\n",
            "... Processing 43\n",
            "Test accuracy is 0.9333333333333333\n"
          ]
        }
      ]
    },
    {
      "cell_type": "code",
      "metadata": {
        "colab": {
          "base_uri": "https://localhost:8080/"
        },
        "id": "21jowuCMMA9h",
        "outputId": "a3a82982-c620-4d56-fd8e-a28f70250e6c"
      },
      "source": [
        "# initialize label powerset multi-label classifier\n",
        "classifier = LabelPowerset(LogisticRegression())\n",
        "\n",
        "# train\n",
        "classifier.fit(X_truncated, y_train)\n",
        "\n",
        "# predict\n",
        "predictions = classifier.predict(X_truncated_test)\n",
        "\n",
        "# accuracy\n",
        "print(\"Accuracy = \",accuracy_score(y_test,predictions))\n",
        "print(\"\\n\")"
      ],
      "execution_count": null,
      "outputs": [
        {
          "output_type": "stream",
          "name": "stdout",
          "text": [
            "Accuracy =  0.08\n",
            "\n",
            "\n"
          ]
        }
      ]
    },
    {
      "cell_type": "code",
      "metadata": {
        "colab": {
          "base_uri": "https://localhost:8080/"
        },
        "id": "o7rXBYgLMctV",
        "outputId": "a6a03850-70e5-4919-e776-62a8f5c12bd7"
      },
      "source": [
        "# using binary relevance\n",
        "from skmultilearn.problem_transform import BinaryRelevance\n",
        "from sklearn.naive_bayes import GaussianNB\n",
        "\n",
        "# initialize binary relevance multi-label classifier\n",
        "# with a gaussian naive bayes base classifier\n",
        "classifier = BinaryRelevance(GaussianNB())\n",
        "\n",
        "# train\n",
        "classifier.fit(X_truncated, y_train)\n",
        "\n",
        "# predict\n",
        "predictions = classifier.predict(X_truncated_test)\n",
        "\n",
        "# accuracy\n",
        "print(\"Accuracy = \",accuracy_score(y_test,predictions))\n",
        "print(\"\\n\")"
      ],
      "execution_count": null,
      "outputs": [
        {
          "output_type": "stream",
          "name": "stdout",
          "text": [
            "Accuracy =  0.0\n",
            "\n",
            "\n"
          ]
        }
      ]
    },
    {
      "cell_type": "code",
      "metadata": {
        "id": "3vMGA0bJ-mH6"
      },
      "source": [
        ""
      ],
      "execution_count": null,
      "outputs": []
    },
    {
      "cell_type": "markdown",
      "metadata": {
        "id": "YX1U50I1GE_i"
      },
      "source": [
        "Trying out the Score model"
      ]
    },
    {
      "cell_type": "code",
      "metadata": {
        "id": "BsCMkT5N0ukR"
      },
      "source": [
        ""
      ],
      "execution_count": null,
      "outputs": []
    }
  ]
}